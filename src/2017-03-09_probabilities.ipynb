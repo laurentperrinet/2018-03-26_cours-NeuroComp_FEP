{
 "cells": [
  {
   "cell_type": "markdown",
   "metadata": {
    "inputHidden": false,
    "outputHidden": false
   },
   "source": [
    "# basics of probability theory\n",
    "\n",
    "In the context of a [course in Computational Neuroscience](https://github.com/laurentperrinet/2018-03-26_cours-NeuroComp_FEP), I am teaching a basic introduction in [Probabilities, Bayes and the Free-energy principle](https://github.com/laurentperrinet/2018-03-26_cours-NeuroComp_FEP).\n",
    "\n",
    "Let's learn to use probabilities in practice by generating some \"synthetic data\", that is by using the computer's number generator. \n",
    "2018-03-26_cours-NeuroComp_FEP\n",
    "\n",
    "<!-- TEASER_END -->"
   ]
  },
  {
   "cell_type": "markdown",
   "metadata": {
    "inputHidden": false,
    "outputHidden": false
   },
   "source": [
    "Let's begin with a dice and the ``numpy.random`` library which provides with a wide range of function to handle random variables:\n",
    "\n",
    "\n",
    "## dice\n",
    "\n",
    "the ``numpy`` library is a module"
   ]
  },
  {
   "cell_type": "code",
   "execution_count": 1,
   "metadata": {
    "ExecuteTime": {
     "end_time": "2018-03-27T10:46:27.717961Z",
     "start_time": "2018-03-27T10:46:27.644601Z"
    }
   },
   "outputs": [
    {
     "data": {
      "text/plain": [
       "<module 'numpy' from '/usr/local/lib/python3.6/site-packages/numpy/__init__.py'>"
      ]
     },
     "execution_count": 1,
     "metadata": {},
     "output_type": "execute_result"
    }
   ],
   "source": [
    "import numpy as np\n",
    "np"
   ]
  },
  {
   "cell_type": "markdown",
   "metadata": {},
   "source": [
    "from which you can use ``numpy.random`` "
   ]
  },
  {
   "cell_type": "code",
   "execution_count": 2,
   "metadata": {
    "ExecuteTime": {
     "end_time": "2018-03-27T10:46:27.722603Z",
     "start_time": "2018-03-27T10:46:27.719402Z"
    }
   },
   "outputs": [
    {
     "data": {
      "text/plain": [
       "<module 'numpy.random' from '/usr/local/lib/python3.6/site-packages/numpy/random/__init__.py'>"
      ]
     },
     "execution_count": 2,
     "metadata": {},
     "output_type": "execute_result"
    }
   ],
   "source": [
    "np.random"
   ]
  },
  {
   "cell_type": "raw",
   "metadata": {
    "ExecuteTime": {
     "end_time": "2018-03-27T07:50:19.908818Z",
     "start_time": "2018-03-27T07:50:19.905645Z"
    }
   },
   "source": [
    "help(np.random.logistic)"
   ]
  },
  {
   "cell_type": "code",
   "execution_count": 3,
   "metadata": {
    "ExecuteTime": {
     "end_time": "2018-03-27T10:46:27.726974Z",
     "start_time": "2018-03-27T10:46:27.724231Z"
    }
   },
   "outputs": [
    {
     "name": "stdout",
     "output_type": "stream",
     "text": [
      "Help on built-in function randint:\n",
      "\n",
      "randint(...) method of mtrand.RandomState instance\n",
      "    randint(low, high=None, size=None, dtype='l')\n",
      "    \n",
      "    Return random integers from `low` (inclusive) to `high` (exclusive).\n",
      "    \n",
      "    Return random integers from the \"discrete uniform\" distribution of\n",
      "    the specified dtype in the \"half-open\" interval [`low`, `high`). If\n",
      "    `high` is None (the default), then results are from [0, `low`).\n",
      "    \n",
      "    Parameters\n",
      "    ----------\n",
      "    low : int\n",
      "        Lowest (signed) integer to be drawn from the distribution (unless\n",
      "        ``high=None``, in which case this parameter is one above the\n",
      "        *highest* such integer).\n",
      "    high : int, optional\n",
      "        If provided, one above the largest (signed) integer to be drawn\n",
      "        from the distribution (see above for behavior if ``high=None``).\n",
      "    size : int or tuple of ints, optional\n",
      "        Output shape.  If the given shape is, e.g., ``(m, n, k)``, then\n",
      "        ``m * n * k`` samples are drawn.  Default is None, in which case a\n",
      "        single value is returned.\n",
      "    dtype : dtype, optional\n",
      "        Desired dtype of the result. All dtypes are determined by their\n",
      "        name, i.e., 'int64', 'int', etc, so byteorder is not available\n",
      "        and a specific precision may have different C types depending\n",
      "        on the platform. The default value is 'np.int'.\n",
      "    \n",
      "        .. versionadded:: 1.11.0\n",
      "    \n",
      "    Returns\n",
      "    -------\n",
      "    out : int or ndarray of ints\n",
      "        `size`-shaped array of random integers from the appropriate\n",
      "        distribution, or a single such random int if `size` not provided.\n",
      "    \n",
      "    See Also\n",
      "    --------\n",
      "    random.random_integers : similar to `randint`, only for the closed\n",
      "        interval [`low`, `high`], and 1 is the lowest value if `high` is\n",
      "        omitted. In particular, this other one is the one to use to generate\n",
      "        uniformly distributed discrete non-integers.\n",
      "    \n",
      "    Examples\n",
      "    --------\n",
      "    >>> np.random.randint(2, size=10)\n",
      "    array([1, 0, 0, 0, 1, 1, 0, 0, 1, 0])\n",
      "    >>> np.random.randint(1, size=10)\n",
      "    array([0, 0, 0, 0, 0, 0, 0, 0, 0, 0])\n",
      "    \n",
      "    Generate a 2 x 4 array of ints between 0 and 4, inclusive:\n",
      "    \n",
      "    >>> np.random.randint(5, size=(2, 4))\n",
      "    array([[4, 0, 2, 1],\n",
      "           [3, 2, 2, 0]])\n",
      "\n"
     ]
    }
   ],
   "source": [
    "help(np.random.randint)"
   ]
  },
  {
   "cell_type": "markdown",
   "metadata": {},
   "source": [
    "Let's draw a cubic dice 10 times:"
   ]
  },
  {
   "cell_type": "code",
   "execution_count": 4,
   "metadata": {
    "ExecuteTime": {
     "end_time": "2018-03-27T10:46:27.731766Z",
     "start_time": "2018-03-27T10:46:27.728488Z"
    }
   },
   "outputs": [
    {
     "data": {
      "text/plain": [
       "array([2, 4, 2, 2, 4, 3, 4, 5, 4, 0])"
      ]
     },
     "execution_count": 4,
     "metadata": {},
     "output_type": "execute_result"
    }
   ],
   "source": [
    "np.random.randint(6, size=10)"
   ]
  },
  {
   "cell_type": "markdown",
   "metadata": {
    "inputHidden": false,
    "outputHidden": false
   },
   "source": [
    "## a note on RNGs\n",
    "\n",
    "On a computer, randomness is (possibly) deterministic !\n"
   ]
  },
  {
   "cell_type": "code",
   "execution_count": 5,
   "metadata": {
    "ExecuteTime": {
     "end_time": "2018-03-27T10:46:27.736758Z",
     "start_time": "2018-03-27T10:46:27.733240Z"
    }
   },
   "outputs": [
    {
     "data": {
      "text/plain": [
       "array([5, 2, 5, 5, 3, 3, 0, 5, 4, 2])"
      ]
     },
     "execution_count": 5,
     "metadata": {},
     "output_type": "execute_result"
    }
   ],
   "source": [
    "np.random.randint(6, size=10)"
   ]
  },
  {
   "cell_type": "code",
   "execution_count": 6,
   "metadata": {
    "ExecuteTime": {
     "end_time": "2018-03-27T10:46:27.741369Z",
     "start_time": "2018-03-27T10:46:27.738219Z"
    }
   },
   "outputs": [
    {
     "data": {
      "text/plain": [
       "array([3, 4, 2, 4, 4, 1, 2, 2, 2, 4])"
      ]
     },
     "execution_count": 6,
     "metadata": {},
     "output_type": "execute_result"
    }
   ],
   "source": [
    "np.random.seed(42)\n",
    "np.random.randint(6, size=10)"
   ]
  },
  {
   "cell_type": "code",
   "execution_count": 7,
   "metadata": {
    "ExecuteTime": {
     "end_time": "2018-03-27T10:46:27.745944Z",
     "start_time": "2018-03-27T10:46:27.742778Z"
    }
   },
   "outputs": [
    {
     "data": {
      "text/plain": [
       "array([4, 0, 1, 5, 2, 0, 3, 1, 3, 3])"
      ]
     },
     "execution_count": 7,
     "metadata": {},
     "output_type": "execute_result"
    }
   ],
   "source": [
    "np.random.seed(43)\n",
    "np.random.randint(6, size=10)"
   ]
  },
  {
   "cell_type": "code",
   "execution_count": 8,
   "metadata": {
    "ExecuteTime": {
     "end_time": "2018-03-27T10:46:27.750838Z",
     "start_time": "2018-03-27T10:46:27.747609Z"
    }
   },
   "outputs": [
    {
     "data": {
      "text/plain": [
       "array([3, 4, 2, 4, 4, 1, 2, 2, 2, 4])"
      ]
     },
     "execution_count": 8,
     "metadata": {},
     "output_type": "execute_result"
    }
   ],
   "source": [
    "np.random.seed(42)\n",
    "np.random.randint(6, size=10)"
   ]
  },
  {
   "cell_type": "code",
   "execution_count": 9,
   "metadata": {
    "ExecuteTime": {
     "end_time": "2018-03-27T10:46:27.759328Z",
     "start_time": "2018-03-27T10:46:27.752144Z"
    }
   },
   "outputs": [
    {
     "data": {
      "text/plain": [
       "array([4, 1, 3, 1, 4, 3, 0, 0, 1, 3])"
      ]
     },
     "execution_count": 9,
     "metadata": {},
     "output_type": "execute_result"
    }
   ],
   "source": [
    "np.random.seed(None)\n",
    "np.random.randint(6, size=10)"
   ]
  },
  {
   "cell_type": "markdown",
   "metadata": {
    "inputHidden": false,
    "outputHidden": false
   },
   "source": [
    "## coin"
   ]
  },
  {
   "cell_type": "code",
   "execution_count": 10,
   "metadata": {
    "ExecuteTime": {
     "end_time": "2018-03-27T10:46:27.763559Z",
     "start_time": "2018-03-27T10:46:27.760826Z"
    }
   },
   "outputs": [
    {
     "name": "stdout",
     "output_type": "stream",
     "text": [
      "[1 0 0 0 0 1 0 0 1 1]\n"
     ]
    }
   ],
   "source": [
    "result = np.random.randint(2, size=10)\n",
    "print(result)"
   ]
  },
  {
   "cell_type": "code",
   "execution_count": 11,
   "metadata": {
    "ExecuteTime": {
     "end_time": "2018-03-27T10:46:27.768056Z",
     "start_time": "2018-03-27T10:46:27.764888Z"
    }
   },
   "outputs": [
    {
     "data": {
      "text/plain": [
       "(0.4, 0.4898979485566356, 0.24)"
      ]
     },
     "execution_count": 11,
     "metadata": {},
     "output_type": "execute_result"
    }
   ],
   "source": [
    "result.mean(), result.std(), result.var()"
   ]
  },
  {
   "cell_type": "code",
   "execution_count": 12,
   "metadata": {
    "ExecuteTime": {
     "end_time": "2018-03-27T10:46:27.772916Z",
     "start_time": "2018-03-27T10:46:27.769508Z"
    }
   },
   "outputs": [
    {
     "name": "stdout",
     "output_type": "stream",
     "text": [
      "Mean  0.515 , std  0.49977494935220584\n"
     ]
    }
   ],
   "source": [
    "N = 1000\n",
    "result = np.random.randint(2, size=N)\n",
    "print('Mean ', result.mean(), ', std ', result.std())"
   ]
  },
  {
   "cell_type": "code",
   "execution_count": 13,
   "metadata": {
    "ExecuteTime": {
     "end_time": "2018-03-27T10:46:27.779939Z",
     "start_time": "2018-03-27T10:46:27.774732Z"
    }
   },
   "outputs": [
    {
     "name": "stdout",
     "output_type": "stream",
     "text": [
      "Mean  [0.487 0.471 0.501 0.476 0.479 0.505 0.485 0.491 0.495 0.479 0.502 0.516\n",
      " 0.474 0.523 0.48  0.535 0.473 0.502 0.525 0.484 0.517 0.498 0.471 0.495\n",
      " 0.481 0.469 0.483 0.523 0.486 0.506 0.498 0.515 0.497 0.51  0.491 0.487\n",
      " 0.532 0.485 0.509 0.512 0.498 0.481 0.501 0.509 0.509 0.509 0.502 0.507\n",
      " 0.482 0.526 0.476 0.501 0.483 0.483 0.512 0.51  0.497 0.482 0.511 0.48\n",
      " 0.473 0.5   0.485 0.519 0.488 0.513 0.536 0.476 0.487 0.484 0.5   0.502\n",
      " 0.505 0.514 0.486 0.538 0.485 0.51  0.512 0.504 0.496 0.502 0.475 0.5\n",
      " 0.495 0.486 0.465 0.519 0.496 0.534 0.473 0.5   0.519 0.493 0.501 0.482\n",
      " 0.524 0.51  0.53  0.503] , std  0.017229541491287588\n"
     ]
    }
   ],
   "source": [
    "N = 1000\n",
    "N_trials = 100\n",
    "result = np.random.randint(2, size=(N, N_trials))\n",
    "print('Mean ', result.mean(axis=0), ', std ', result.mean(axis=0).std())"
   ]
  },
  {
   "cell_type": "code",
   "execution_count": 14,
   "metadata": {
    "ExecuteTime": {
     "end_time": "2018-03-27T10:46:27.783932Z",
     "start_time": "2018-03-27T10:46:27.781350Z"
    }
   },
   "outputs": [
    {
     "name": "stdout",
     "output_type": "stream",
     "text": [
      "Grand average= 0.49827\n"
     ]
    }
   ],
   "source": [
    "print('Grand average=', result.mean())"
   ]
  },
  {
   "cell_type": "code",
   "execution_count": 15,
   "metadata": {
    "ExecuteTime": {
     "end_time": "2018-03-27T10:46:27.944638Z",
     "start_time": "2018-03-27T10:46:27.785375Z"
    },
    "outputExpanded": false
   },
   "outputs": [],
   "source": [
    "%matplotlib inline\n",
    "import matplotlib.pyplot as plt"
   ]
  },
  {
   "cell_type": "code",
   "execution_count": 16,
   "metadata": {
    "ExecuteTime": {
     "end_time": "2018-03-27T10:46:28.241104Z",
     "start_time": "2018-03-27T10:46:27.946500Z"
    }
   },
   "outputs": [
    {
     "name": "stdout",
     "output_type": "stream",
     "text": [
      "Mean  [0.521 0.511 0.501 0.503 0.472 0.514 0.499 0.522 0.498 0.491 0.517 0.509\n",
      " 0.495 0.521 0.514 0.508 0.523 0.493 0.516 0.509 0.5   0.504 0.478 0.492\n",
      " 0.473 0.517 0.493 0.48  0.485 0.513 0.536 0.51  0.508 0.505 0.532 0.482\n",
      " 0.484 0.505 0.485 0.497 0.495 0.523 0.497 0.508 0.489 0.458 0.524 0.515\n",
      " 0.508 0.52  0.519 0.497 0.474 0.528 0.507 0.512 0.497 0.494 0.475 0.475\n",
      " 0.477 0.523 0.501 0.509 0.506 0.51  0.508 0.492 0.483 0.507 0.501 0.486\n",
      " 0.507 0.482 0.482 0.503 0.5   0.5   0.509 0.509 0.545 0.505 0.472 0.505\n",
      " 0.476 0.518 0.499 0.487 0.521 0.516 0.491 0.505 0.501 0.489 0.495 0.492\n",
      " 0.504 0.507 0.499 0.481] , std  0.015810894977830964\n"
     ]
    },
    {
     "data": {
      "image/png": "[encoded data removed]",
      "text/plain": [
       "<Figure size 936x576 with 1 Axes>"
      ]
     },
     "metadata": {},
     "output_type": "display_data"
    }
   ],
   "source": [
    "N = 1000\n",
    "N_trials = 100\n",
    "result = np.random.randint(2, size=(N, N_trials))\n",
    "print('Mean ', result.mean(axis=0), ', std ', result.mean(axis=0).std())\n",
    "fig, ax = plt.subplots(figsize=(13, 8))\n",
    "ax.hist(result.mean(axis=0), bins=np.linspace(0, 1, 100));"
   ]
  },
  {
   "cell_type": "code",
   "execution_count": 17,
   "metadata": {
    "ExecuteTime": {
     "end_time": "2018-03-27T10:46:28.526487Z",
     "start_time": "2018-03-27T10:46:28.242661Z"
    }
   },
   "outputs": [
    {
     "name": "stdout",
     "output_type": "stream",
     "text": [
      "Mean  [0.49 0.51 0.52 0.52 0.47 0.53 0.51 0.55 0.44 0.53 0.47 0.54 0.5  0.49\n",
      " 0.52 0.6  0.58 0.5  0.51 0.51 0.44 0.5  0.44 0.49 0.47 0.43 0.53 0.47\n",
      " 0.5  0.45 0.52 0.44 0.45 0.49 0.48 0.55 0.45 0.58 0.51 0.58 0.56 0.61\n",
      " 0.58 0.46 0.53 0.55 0.45 0.53 0.51 0.47 0.44 0.45 0.51 0.42 0.44 0.61\n",
      " 0.48 0.4  0.54 0.55 0.42 0.42 0.51 0.49 0.54 0.52 0.5  0.46 0.43 0.45\n",
      " 0.5  0.45 0.53 0.48 0.49 0.48 0.51 0.53 0.46 0.47 0.46 0.45 0.56 0.49\n",
      " 0.45 0.51 0.55 0.47 0.53 0.58 0.54 0.48 0.57 0.49 0.48 0.48 0.45 0.53\n",
      " 0.46 0.38 0.52 0.47 0.48 0.5  0.5  0.43 0.45 0.48 0.51 0.48 0.45 0.41\n",
      " 0.43 0.48 0.55 0.45 0.54 0.45 0.35 0.56 0.5  0.61 0.61 0.57 0.46 0.55\n",
      " 0.49 0.57 0.54 0.52 0.5  0.52 0.56 0.49 0.51 0.5  0.49 0.59 0.56 0.47\n",
      " 0.49 0.54 0.52 0.49 0.42 0.45 0.5  0.48 0.5  0.49 0.42 0.52 0.51 0.46\n",
      " 0.49 0.46 0.57 0.49 0.53 0.47 0.53 0.51 0.57 0.53 0.47 0.52 0.52 0.39\n",
      " 0.5  0.51 0.47 0.49 0.42 0.58 0.52 0.54 0.43 0.41 0.57 0.44 0.55 0.5\n",
      " 0.49 0.58 0.46 0.55 0.49 0.44 0.36 0.52 0.45 0.44 0.44 0.4  0.58 0.56\n",
      " 0.47 0.51 0.46 0.52 0.58 0.53 0.48 0.47 0.4  0.55 0.5  0.43 0.52 0.52\n",
      " 0.47 0.67 0.48 0.54 0.54 0.56 0.54 0.6  0.55 0.52 0.45 0.55 0.55 0.49\n",
      " 0.56 0.55 0.5  0.46 0.51 0.54 0.58 0.48 0.51 0.5  0.47 0.49 0.54 0.49\n",
      " 0.49 0.52 0.54 0.58 0.57 0.51 0.45 0.5  0.54 0.57 0.58 0.59 0.45 0.5\n",
      " 0.51 0.48 0.46 0.5  0.53 0.49 0.5  0.47 0.55 0.51 0.52 0.52 0.53 0.44\n",
      " 0.43 0.48 0.44 0.43 0.48 0.41 0.55 0.39 0.46 0.52 0.49 0.53 0.44 0.52\n",
      " 0.59 0.48 0.5  0.44 0.48 0.49 0.54 0.5  0.49 0.43 0.5  0.49 0.5  0.47\n",
      " 0.44 0.46 0.49 0.5  0.4  0.51 0.48 0.59 0.56 0.46 0.5  0.42 0.45 0.51\n",
      " 0.47 0.52 0.54 0.53 0.48 0.48 0.41 0.54 0.43 0.48 0.38 0.47 0.46 0.53\n",
      " 0.59 0.6  0.5  0.54 0.51 0.42 0.4  0.49 0.42 0.41 0.42 0.52 0.45 0.48\n",
      " 0.51 0.49 0.41 0.51 0.49 0.47 0.56 0.5  0.41 0.47 0.5  0.55 0.58 0.49\n",
      " 0.51 0.41 0.51 0.51 0.4  0.57 0.46 0.53 0.58 0.48 0.54 0.46 0.49 0.55\n",
      " 0.43 0.5  0.43 0.56 0.48 0.49 0.53 0.47 0.55 0.53 0.48 0.5  0.56 0.55\n",
      " 0.48 0.49 0.47 0.5  0.57 0.58 0.52 0.51 0.52 0.42 0.5  0.54 0.59 0.43\n",
      " 0.5  0.5  0.53 0.5  0.58 0.47 0.51 0.56 0.55 0.45 0.38 0.55 0.53 0.54\n",
      " 0.57 0.5  0.49 0.49 0.48 0.5  0.56 0.44 0.56 0.49 0.59 0.6  0.52 0.53\n",
      " 0.49 0.4  0.45 0.52 0.55 0.45 0.48 0.5  0.44 0.5  0.47 0.57 0.51 0.52\n",
      " 0.49 0.4  0.49 0.47 0.49 0.46 0.5  0.57 0.53 0.45 0.51 0.51 0.55 0.44\n",
      " 0.53 0.49 0.56 0.58 0.48 0.51 0.62 0.46 0.53 0.54 0.5  0.54 0.46 0.46\n",
      " 0.53 0.56 0.63 0.55 0.5  0.49 0.5  0.53 0.53 0.52 0.51 0.49 0.57 0.61\n",
      " 0.51 0.56 0.43 0.47 0.53 0.46 0.47 0.58 0.45 0.52 0.46 0.56 0.46 0.66\n",
      " 0.47 0.41 0.52 0.52 0.48 0.53 0.5  0.58 0.48 0.55 0.58 0.47 0.5  0.55\n",
      " 0.53 0.62 0.51 0.45 0.47 0.53 0.51 0.51 0.42 0.48 0.53 0.51 0.48 0.53\n",
      " 0.46 0.47 0.58 0.55 0.48 0.47 0.52 0.56 0.49 0.46 0.5  0.48 0.54 0.59\n",
      " 0.56 0.47 0.45 0.49 0.39 0.44 0.49 0.55 0.55 0.62 0.41 0.49 0.48 0.54\n",
      " 0.49 0.51 0.52 0.52 0.62 0.43 0.5  0.53 0.43 0.56 0.56 0.54 0.54 0.51\n",
      " 0.45 0.47 0.48 0.44 0.5  0.51 0.44 0.44 0.49 0.49 0.41 0.51 0.48 0.42\n",
      " 0.54 0.5  0.55 0.5  0.43 0.6  0.49 0.47 0.41 0.55 0.45 0.44 0.52 0.44\n",
      " 0.47 0.49 0.54 0.59 0.38 0.53 0.54 0.42 0.5  0.54 0.44 0.5  0.6  0.46\n",
      " 0.44 0.49 0.48 0.54 0.54 0.48 0.46 0.48 0.44 0.54 0.5  0.43 0.59 0.49\n",
      " 0.53 0.56 0.55 0.52 0.52 0.55 0.4  0.51 0.56 0.46 0.55 0.53 0.53 0.48\n",
      " 0.55 0.54 0.55 0.44 0.51 0.51 0.56 0.57 0.57 0.54 0.53 0.49 0.46 0.43\n",
      " 0.46 0.55 0.51 0.45 0.43 0.52 0.44 0.47 0.53 0.57 0.43 0.51 0.42 0.51\n",
      " 0.5  0.55 0.45 0.51 0.58 0.54 0.53 0.54 0.55 0.59 0.53 0.48 0.59 0.49\n",
      " 0.58 0.47 0.49 0.48 0.44 0.46 0.48 0.49 0.41 0.53 0.45 0.5  0.57 0.54\n",
      " 0.53 0.4  0.51 0.5  0.52 0.45 0.44 0.5  0.56 0.58 0.41 0.51 0.4  0.53\n",
      " 0.53 0.6  0.51 0.57 0.56 0.45 0.52 0.6  0.62 0.5  0.5  0.51 0.52 0.48\n",
      " 0.57 0.46 0.42 0.49 0.5  0.55 0.54 0.48 0.57 0.5  0.58 0.44 0.54 0.43\n",
      " 0.39 0.47 0.47 0.36 0.53 0.52 0.48 0.5  0.47 0.47 0.59 0.51 0.54 0.51\n",
      " 0.53 0.57 0.47 0.5  0.47 0.46 0.54 0.45 0.51 0.6  0.51 0.49 0.57 0.56\n",
      " 0.57 0.5  0.51 0.42 0.51 0.5  0.53 0.49 0.56 0.54 0.51 0.55 0.39 0.47\n",
      " 0.51 0.42 0.5  0.54 0.56 0.5  0.52 0.45 0.54 0.48 0.52 0.57 0.38 0.47\n",
      " 0.51 0.58 0.59 0.46 0.35 0.48 0.5  0.45 0.55 0.53 0.47 0.49 0.55 0.56\n",
      " 0.54 0.49 0.42 0.53 0.5  0.52 0.55 0.53 0.52 0.55 0.54 0.56 0.49 0.52\n",
      " 0.48 0.47 0.46 0.48 0.51 0.47 0.51 0.49 0.47 0.63 0.48 0.54 0.49 0.61\n",
      " 0.44 0.42 0.43 0.54 0.53 0.48 0.48 0.49 0.49 0.38 0.47 0.39 0.49 0.51\n",
      " 0.5  0.49 0.51 0.49 0.56 0.44 0.56 0.44 0.46 0.39 0.6  0.49 0.59 0.49\n",
      " 0.57 0.44 0.45 0.53 0.55 0.45 0.48 0.41 0.36 0.52 0.52 0.57 0.45 0.49\n",
      " 0.52 0.5  0.58 0.46 0.54 0.46 0.47 0.53 0.48 0.48 0.53 0.62 0.45 0.61\n",
      " 0.52 0.51 0.54 0.45 0.4  0.43 0.52 0.47 0.43 0.5  0.49 0.48 0.57 0.57\n",
      " 0.49 0.48 0.53 0.52 0.49 0.5  0.51 0.56 0.45 0.51 0.45 0.47 0.49 0.57\n",
      " 0.48 0.53 0.46 0.55 0.46 0.48 0.49 0.5  0.49 0.5  0.51 0.56 0.55 0.53\n",
      " 0.52 0.49 0.48 0.48 0.52 0.49 0.47 0.48 0.48 0.54 0.42 0.45 0.4  0.49\n",
      " 0.46 0.54 0.58 0.48 0.52 0.46 0.46 0.53 0.49 0.44 0.51 0.48 0.6  0.45\n",
      " 0.56 0.53 0.39 0.49 0.52 0.54 0.5  0.55 0.51 0.44 0.49 0.49 0.5  0.6\n",
      " 0.53 0.48 0.56 0.49 0.51 0.6  0.48 0.52 0.52 0.52 0.48 0.57 0.47 0.5\n",
      " 0.41 0.58 0.57 0.51 0.46 0.46 0.47 0.4  0.47 0.65 0.52 0.49 0.55 0.52\n",
      " 0.38 0.41 0.56 0.51 0.52 0.49] , std  0.050859162399709265\n"
     ]
    },
    {
     "data": {
      "image/png": "[encoded data removed]",
      "text/plain": [
       "<Figure size 936x576 with 1 Axes>"
      ]
     },
     "metadata": {},
     "output_type": "display_data"
    }
   ],
   "source": [
    "N = 100\n",
    "N_trials = 1000\n",
    "result = np.random.randint(2, size=(N, N_trials))\n",
    "print('Mean ', result.mean(axis=0), ', std ', result.mean(axis=0).std())\n",
    "fig, ax = plt.subplots(figsize=(13, 8))\n",
    "ax.hist(result.mean(axis=0), bins=np.linspace(0, 1, 100));"
   ]
  },
  {
   "cell_type": "code",
   "execution_count": 18,
   "metadata": {
    "ExecuteTime": {
     "end_time": "2018-03-27T10:46:28.801461Z",
     "start_time": "2018-03-27T10:46:28.528090Z"
    }
   },
   "outputs": [
    {
     "name": "stdout",
     "output_type": "stream",
     "text": [
      "Mean  [0.5026 0.4995 0.4993 0.5032 0.4975 0.5013 0.5073 0.4982 0.4968 0.5067] , std  0.0034923344627913297\n"
     ]
    },
    {
     "data": {
      "image/png": "[encoded data removed]",
      "text/plain": [
       "<Figure size 936x576 with 1 Axes>"
      ]
     },
     "metadata": {},
     "output_type": "display_data"
    }
   ],
   "source": [
    "N = 10000\n",
    "N_trials = 10\n",
    "result = np.random.randint(2, size=(N, N_trials))\n",
    "print('Mean ', result.mean(axis=0), ', std ', result.mean(axis=0).std())\n",
    "fig, ax = plt.subplots(figsize=(13, 8))\n",
    "ax.hist(result.mean(axis=0), bins=np.linspace(0, 1, 100));"
   ]
  },
  {
   "cell_type": "code",
   "execution_count": 19,
   "metadata": {
    "ExecuteTime": {
     "end_time": "2018-03-27T10:46:29.075762Z",
     "start_time": "2018-03-27T10:46:28.803062Z"
    }
   },
   "outputs": [
    {
     "name": "stdout",
     "output_type": "stream",
     "text": [
      "Mean  [0.3 0.5 0.5 ... 0.4 0.6 0.8] , std  0.15860277141336465\n"
     ]
    },
    {
     "data": {
      "image/png": "[encoded data removed]",
      "text/plain": [
       "<Figure size 936x576 with 1 Axes>"
      ]
     },
     "metadata": {},
     "output_type": "display_data"
    }
   ],
   "source": [
    "N = 10\n",
    "N_trials = 10000\n",
    "result = np.random.randint(2, size=(N, N_trials))\n",
    "print('Mean ', result.mean(axis=0), ', std ', result.mean(axis=0).std())\n",
    "fig, ax = plt.subplots(figsize=(13, 8))\n",
    "ax.hist(result.mean(axis=0), bins=np.linspace(0, 1, 100));"
   ]
  },
  {
   "cell_type": "markdown",
   "metadata": {
    "inputHidden": false,
    "outputHidden": false
   },
   "source": [
    "## introducing the normal variable: the Gaussian distribution"
   ]
  },
  {
   "cell_type": "code",
   "execution_count": 20,
   "metadata": {
    "ExecuteTime": {
     "end_time": "2018-03-27T10:46:30.403640Z",
     "start_time": "2018-03-27T10:46:29.077354Z"
    }
   },
   "outputs": [
    {
     "name": "stdout",
     "output_type": "stream",
     "text": [
      "Mean  [0.5037 0.5168 0.5043 ... 0.5018 0.5036 0.5034] , std  0.0049776245637351965\n"
     ]
    },
    {
     "data": {
      "image/png": "[encoded data removed]",
      "text/plain": [
       "<Figure size 936x576 with 1 Axes>"
      ]
     },
     "metadata": {},
     "output_type": "display_data"
    }
   ],
   "source": [
    "N = 10000\n",
    "N_trials = 10000\n",
    "result = np.random.randint(2, size=(N, N_trials))\n",
    "print('Mean ', result.mean(axis=0), ', std ', result.mean(axis=0).std())\n",
    "fig, ax = plt.subplots(figsize=(13, 8))\n",
    "ax.hist(result.mean(axis=0), bins=np.linspace(0.48, .52, 100));"
   ]
  },
  {
   "cell_type": "markdown",
   "metadata": {},
   "source": [
    "Central limit theorem:\n",
    "\n",
    "Over multiple measurements, the average of an identical random variable converges to a normal law :\n",
    "$$\n",
    "p (x) = \\frac {1} { \\sqrt{ 2\\pi } \\sigma} \\cdot \\exp{(- \\frac {1} {2} \\cdot \\frac {(x - m)^2} {\\sigma^2} )}\n",
    "$$\n",
    "\n",
    "(moreover, we know from this theorem that the asymptotic mean is the mean or the rv and that the variance decreases inversely proportionally with the number of measurements)"
   ]
  },
  {
   "cell_type": "code",
   "execution_count": 21,
   "metadata": {
    "ExecuteTime": {
     "end_time": "2018-03-27T10:46:30.979098Z",
     "start_time": "2018-03-27T10:46:30.405361Z"
    }
   },
   "outputs": [
    {
     "data": {
      "image/png": "[encoded data removed]",
      "text/plain": [
       "<Figure size 936x576 with 1 Axes>"
      ]
     },
     "metadata": {},
     "output_type": "display_data"
    }
   ],
   "source": [
    "mean  = result.mean(axis=0).mean()\n",
    "std  = result.mean(axis=0).std()\n",
    "bins = np.linspace(0.48, .52, 100)\n",
    "\n",
    "fig, ax = plt.subplots(figsize=(13, 8))\n",
    "ax.hist(result.mean(axis=0), bins=bins, density=True)\n",
    "ax.plot(bins, 1 / np.sqrt(2*np.pi) / std * np.exp(-.5*(bins-mean)**2/std**2), 'r', lw=2 );"
   ]
  },
  {
   "cell_type": "markdown",
   "metadata": {},
   "source": [
    "The central limit theorem works with all forms of random variables:"
   ]
  },
  {
   "cell_type": "code",
   "execution_count": 22,
   "metadata": {
    "ExecuteTime": {
     "end_time": "2018-03-27T10:46:31.133445Z",
     "start_time": "2018-03-27T10:46:30.980709Z"
    }
   },
   "outputs": [
    {
     "name": "stdout",
     "output_type": "stream",
     "text": [
      "[[0.17776032 0.70153493 0.51930643 ... 0.35664146 0.05377125 0.99831716]\n",
      " [0.47969204 0.05427134 0.87522712 ... 0.0897827  0.83370048 0.20273843]\n",
      " [0.8052115  0.62939528 0.12933345 ... 0.31730851 0.62459905 0.56850112]\n",
      " ...\n",
      " [0.93144067 0.63063853 0.33191078 ... 0.28888445 0.93512079 0.6656451 ]\n",
      " [0.84540231 0.89137123 0.72865125 ... 0.29466667 0.29699345 0.5264605 ]\n",
      " [0.29392923 0.51797084 0.41350589 ... 0.30197422 0.91424485 0.94056245]]\n"
     ]
    }
   ],
   "source": [
    "N = 10000\n",
    "N_trials = 1000\n",
    "result = np.random.rand(N, N_trials)\n",
    "print(result)"
   ]
  },
  {
   "cell_type": "code",
   "execution_count": 23,
   "metadata": {
    "ExecuteTime": {
     "end_time": "2018-03-27T10:46:31.444599Z",
     "start_time": "2018-03-27T10:46:31.135019Z"
    }
   },
   "outputs": [
    {
     "data": {
      "image/png": "[encoded data removed]",
      "text/plain": [
       "<Figure size 936x576 with 1 Axes>"
      ]
     },
     "metadata": {},
     "output_type": "display_data"
    }
   ],
   "source": [
    "mean  = result.mean(axis=0).mean()\n",
    "std  = result.mean(axis=0).std()\n",
    "bins = np.linspace(0.48, .52, 100)\n",
    "\n",
    "fig, ax = plt.subplots(figsize=(13, 8))\n",
    "ax.hist(result.mean(axis=0), bins=bins, density=True)\n",
    "ax.plot(bins, 1 / np.sqrt(2*np.pi) / std * np.exp(-.5*(bins-mean)**2/std**2), 'r', lw=2 );"
   ]
  },
  {
   "cell_type": "code",
   "execution_count": 24,
   "metadata": {
    "ExecuteTime": {
     "end_time": "2018-03-27T10:46:32.005591Z",
     "start_time": "2018-03-27T10:46:31.446300Z"
    }
   },
   "outputs": [
    {
     "data": {
      "image/png": "[encoded data removed]",
      "text/plain": [
       "<Figure size 936x576 with 1 Axes>"
      ]
     },
     "metadata": {},
     "output_type": "display_data"
    }
   ],
   "source": [
    "N = 10000\n",
    "N_trials = 1000\n",
    "result = np.random.randn(N, N_trials) + .5\n",
    "\n",
    "mean  = result.mean(axis=0).mean()\n",
    "std  = result.mean(axis=0).std()\n",
    "bins = np.linspace(0.48, .52, 100)\n",
    "\n",
    "fig, ax = plt.subplots(figsize=(13, 8))\n",
    "ax.hist(result.mean(axis=0), bins=bins, density=True)\n",
    "ax.plot(bins, 1 / np.sqrt(2*np.pi) / std * np.exp(-.5*(bins-mean)**2/std**2), 'r', lw=2 );"
   ]
  }
 ],
 "metadata": {
  "kernel_info": {
   "name": "python3"
  },
  "kernelspec": {
   "display_name": "Python 3",
   "language": "python",
   "name": "python3"
  },
  "language_info": {
   "codemirror_mode": {
    "name": "ipython",
    "version": 3
   },
   "file_extension": ".py",
   "mimetype": "text/x-python",
   "name": "python",
   "nbconvert_exporter": "python",
   "pygments_lexer": "ipython3",
   "version": "3.6.4"
  },
  "nteract": {
   "version": "0.8.3"
  },
  "toc": {
   "nav_menu": {},
   "number_sections": true,
   "sideBar": true,
   "skip_h1_title": false,
   "title_cell": "Table of Contents",
   "title_sidebar": "Contents",
   "toc_cell": false,
   "toc_position": {},
   "toc_section_display": true,
   "toc_window_display": false
  }
 },
 "nbformat": 4,
 "nbformat_minor": 1
}
