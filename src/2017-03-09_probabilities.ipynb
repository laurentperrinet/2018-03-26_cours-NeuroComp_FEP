{
 "cells": [
  {
   "cell_type": "markdown",
   "metadata": {
    "inputHidden": false,
    "outputHidden": false
   },
   "source": [
    "# basics of probability theory\n",
    "\n",
    "In the context of a [course in Computational Neuroscience](https://invibe.net/LaurentPerrinet/Presentations/2018-03-26_cours-NeuroComp), I am teaching a basic introduction in [Probabilities, Bayes and the Free-energy principle](http://blog.invibe.net/files/2018-03-26_cours-NeuroComp_FEP.html).\n",
    "\n",
    "Let's learn to use probabilities in practice by generating some \"synthetic data\", that is by using the computer's number generator. \n",
    "2018-03-26_cours-NeuroComp_FEP\n",
    "\n",
    "<!-- TEASER_END -->\n",
    "\n",
    "\n",
    "\n",
    "Let's begin with a dice:\n",
    "\n",
    "\n",
    "## dice"
   ]
  },
  {
   "cell_type": "code",
   "execution_count": 1,
   "metadata": {
    "ExecuteTime": {
     "end_time": "2018-03-26T14:53:25.586272Z",
     "start_time": "2018-03-26T14:53:25.497057Z"
    }
   },
   "outputs": [
    {
     "data": {
      "text/plain": [
       "<module 'numpy' from '/usr/local/lib/python3.6/site-packages/numpy/__init__.py'>"
      ]
     },
     "execution_count": 1,
     "metadata": {},
     "output_type": "execute_result"
    }
   ],
   "source": [
    "import numpy as np\n",
    "np"
   ]
  },
  {
   "cell_type": "code",
   "execution_count": 2,
   "metadata": {
    "ExecuteTime": {
     "end_time": "2018-03-26T14:53:25.591896Z",
     "start_time": "2018-03-26T14:53:25.588429Z"
    }
   },
   "outputs": [
    {
     "data": {
      "text/plain": [
       "<module 'numpy.random' from '/usr/local/lib/python3.6/site-packages/numpy/random/__init__.py'>"
      ]
     },
     "execution_count": 2,
     "metadata": {},
     "output_type": "execute_result"
    }
   ],
   "source": [
    "np.random"
   ]
  },
  {
   "cell_type": "code",
   "execution_count": 3,
   "metadata": {
    "ExecuteTime": {
     "end_time": "2018-03-26T14:53:25.596930Z",
     "start_time": "2018-03-26T14:53:25.593684Z"
    }
   },
   "outputs": [
    {
     "data": {
      "text/plain": [
       "<function RandomState.logistic>"
      ]
     },
     "execution_count": 3,
     "metadata": {},
     "output_type": "execute_result"
    }
   ],
   "source": [
    "np.random.logistic"
   ]
  },
  {
   "cell_type": "code",
   "execution_count": 4,
   "metadata": {
    "ExecuteTime": {
     "end_time": "2018-03-26T14:53:25.602506Z",
     "start_time": "2018-03-26T14:53:25.598981Z"
    }
   },
   "outputs": [
    {
     "name": "stdout",
     "output_type": "stream",
     "text": [
      "Help on built-in function randint:\n",
      "\n",
      "randint(...) method of mtrand.RandomState instance\n",
      "    randint(low, high=None, size=None, dtype='l')\n",
      "    \n",
      "    Return random integers from `low` (inclusive) to `high` (exclusive).\n",
      "    \n",
      "    Return random integers from the \"discrete uniform\" distribution of\n",
      "    the specified dtype in the \"half-open\" interval [`low`, `high`). If\n",
      "    `high` is None (the default), then results are from [0, `low`).\n",
      "    \n",
      "    Parameters\n",
      "    ----------\n",
      "    low : int\n",
      "        Lowest (signed) integer to be drawn from the distribution (unless\n",
      "        ``high=None``, in which case this parameter is one above the\n",
      "        *highest* such integer).\n",
      "    high : int, optional\n",
      "        If provided, one above the largest (signed) integer to be drawn\n",
      "        from the distribution (see above for behavior if ``high=None``).\n",
      "    size : int or tuple of ints, optional\n",
      "        Output shape.  If the given shape is, e.g., ``(m, n, k)``, then\n",
      "        ``m * n * k`` samples are drawn.  Default is None, in which case a\n",
      "        single value is returned.\n",
      "    dtype : dtype, optional\n",
      "        Desired dtype of the result. All dtypes are determined by their\n",
      "        name, i.e., 'int64', 'int', etc, so byteorder is not available\n",
      "        and a specific precision may have different C types depending\n",
      "        on the platform. The default value is 'np.int'.\n",
      "    \n",
      "        .. versionadded:: 1.11.0\n",
      "    \n",
      "    Returns\n",
      "    -------\n",
      "    out : int or ndarray of ints\n",
      "        `size`-shaped array of random integers from the appropriate\n",
      "        distribution, or a single such random int if `size` not provided.\n",
      "    \n",
      "    See Also\n",
      "    --------\n",
      "    random.random_integers : similar to `randint`, only for the closed\n",
      "        interval [`low`, `high`], and 1 is the lowest value if `high` is\n",
      "        omitted. In particular, this other one is the one to use to generate\n",
      "        uniformly distributed discrete non-integers.\n",
      "    \n",
      "    Examples\n",
      "    --------\n",
      "    >>> np.random.randint(2, size=10)\n",
      "    array([1, 0, 0, 0, 1, 1, 0, 0, 1, 0])\n",
      "    >>> np.random.randint(1, size=10)\n",
      "    array([0, 0, 0, 0, 0, 0, 0, 0, 0, 0])\n",
      "    \n",
      "    Generate a 2 x 4 array of ints between 0 and 4, inclusive:\n",
      "    \n",
      "    >>> np.random.randint(5, size=(2, 4))\n",
      "    array([[4, 0, 2, 1],\n",
      "           [3, 2, 2, 0]])\n",
      "\n"
     ]
    }
   ],
   "source": [
    "help(np.random.randint)"
   ]
  },
  {
   "cell_type": "code",
   "execution_count": 5,
   "metadata": {
    "ExecuteTime": {
     "end_time": "2018-03-26T14:53:25.607925Z",
     "start_time": "2018-03-26T14:53:25.604236Z"
    }
   },
   "outputs": [
    {
     "data": {
      "text/plain": [
       "array([2, 4, 3, 5, 0, 4, 4, 4, 1, 0])"
      ]
     },
     "execution_count": 5,
     "metadata": {},
     "output_type": "execute_result"
    }
   ],
   "source": [
    "np.random.randint(6, size=10)"
   ]
  },
  {
   "cell_type": "markdown",
   "metadata": {
    "inputHidden": false,
    "outputHidden": false
   },
   "source": [
    "## a note on RNGs\n",
    "\n",
    "On a computer, randomness is (possibly) deterministic !\n"
   ]
  },
  {
   "cell_type": "code",
   "execution_count": 6,
   "metadata": {
    "ExecuteTime": {
     "end_time": "2018-03-26T14:53:25.613513Z",
     "start_time": "2018-03-26T14:53:25.609689Z"
    }
   },
   "outputs": [
    {
     "data": {
      "text/plain": [
       "array([3, 1, 1, 0, 1, 4, 4, 2, 5, 0])"
      ]
     },
     "execution_count": 6,
     "metadata": {},
     "output_type": "execute_result"
    }
   ],
   "source": [
    "np.random.randint(6, size=10)"
   ]
  },
  {
   "cell_type": "code",
   "execution_count": 7,
   "metadata": {
    "ExecuteTime": {
     "end_time": "2018-03-26T14:53:25.619079Z",
     "start_time": "2018-03-26T14:53:25.615207Z"
    }
   },
   "outputs": [
    {
     "data": {
      "text/plain": [
       "array([3, 4, 2, 4, 4, 1, 2, 2, 2, 4])"
      ]
     },
     "execution_count": 7,
     "metadata": {},
     "output_type": "execute_result"
    }
   ],
   "source": [
    "np.random.seed(42)\n",
    "np.random.randint(6, size=10)"
   ]
  },
  {
   "cell_type": "code",
   "execution_count": 8,
   "metadata": {
    "ExecuteTime": {
     "end_time": "2018-03-26T14:53:25.624950Z",
     "start_time": "2018-03-26T14:53:25.621057Z"
    }
   },
   "outputs": [
    {
     "data": {
      "text/plain": [
       "array([4, 0, 1, 5, 2, 0, 3, 1, 3, 3])"
      ]
     },
     "execution_count": 8,
     "metadata": {},
     "output_type": "execute_result"
    }
   ],
   "source": [
    "np.random.seed(43)\n",
    "np.random.randint(6, size=10)"
   ]
  },
  {
   "cell_type": "code",
   "execution_count": 9,
   "metadata": {
    "ExecuteTime": {
     "end_time": "2018-03-26T14:53:25.630511Z",
     "start_time": "2018-03-26T14:53:25.626711Z"
    }
   },
   "outputs": [
    {
     "data": {
      "text/plain": [
       "array([3, 4, 2, 4, 4, 1, 2, 2, 2, 4])"
      ]
     },
     "execution_count": 9,
     "metadata": {},
     "output_type": "execute_result"
    }
   ],
   "source": [
    "np.random.seed(42)\n",
    "np.random.randint(6, size=10)"
   ]
  },
  {
   "cell_type": "code",
   "execution_count": 10,
   "metadata": {
    "ExecuteTime": {
     "end_time": "2018-03-26T14:53:25.641205Z",
     "start_time": "2018-03-26T14:53:25.632346Z"
    }
   },
   "outputs": [
    {
     "data": {
      "text/plain": [
       "array([3, 4, 3, 3, 1, 1, 3, 4, 3, 1])"
      ]
     },
     "execution_count": 10,
     "metadata": {},
     "output_type": "execute_result"
    }
   ],
   "source": [
    "np.random.seed(None)\n",
    "np.random.randint(6, size=10)"
   ]
  },
  {
   "cell_type": "markdown",
   "metadata": {
    "inputHidden": false,
    "outputHidden": false
   },
   "source": [
    "## coin"
   ]
  },
  {
   "cell_type": "code",
   "execution_count": 11,
   "metadata": {
    "ExecuteTime": {
     "end_time": "2018-03-26T14:53:25.646147Z",
     "start_time": "2018-03-26T14:53:25.642983Z"
    }
   },
   "outputs": [
    {
     "name": "stdout",
     "output_type": "stream",
     "text": [
      "[0 0 0 1 1 0 1 1 0 1]\n"
     ]
    }
   ],
   "source": [
    "result = np.random.randint(2, size=10)\n",
    "print(result)"
   ]
  },
  {
   "cell_type": "code",
   "execution_count": 12,
   "metadata": {
    "ExecuteTime": {
     "end_time": "2018-03-26T14:53:25.651650Z",
     "start_time": "2018-03-26T14:53:25.647894Z"
    }
   },
   "outputs": [
    {
     "data": {
      "text/plain": [
       "(0.5, 0.5, 0.25)"
      ]
     },
     "execution_count": 12,
     "metadata": {},
     "output_type": "execute_result"
    }
   ],
   "source": [
    "result.mean(), result.std(), result.var()"
   ]
  },
  {
   "cell_type": "code",
   "execution_count": 13,
   "metadata": {
    "ExecuteTime": {
     "end_time": "2018-03-26T14:53:25.657114Z",
     "start_time": "2018-03-26T14:53:25.653407Z"
    }
   },
   "outputs": [
    {
     "name": "stdout",
     "output_type": "stream",
     "text": [
      "Mean  0.512 , std  0.49985597925802594\n"
     ]
    }
   ],
   "source": [
    "N = 1000\n",
    "result = np.random.randint(2, size=N)\n",
    "print('Mean ', result.mean(), ', std ', result.std())"
   ]
  },
  {
   "cell_type": "code",
   "execution_count": 14,
   "metadata": {
    "ExecuteTime": {
     "end_time": "2018-03-26T14:53:25.664910Z",
     "start_time": "2018-03-26T14:53:25.658816Z"
    }
   },
   "outputs": [
    {
     "name": "stdout",
     "output_type": "stream",
     "text": [
      "Mean  [0.486 0.471 0.484 0.49  0.496 0.485 0.502 0.512 0.51  0.5   0.532 0.506\n",
      " 0.506 0.495 0.498 0.505 0.517 0.505 0.496 0.505 0.499 0.508 0.52  0.511\n",
      " 0.455 0.491 0.515 0.501 0.507 0.5   0.513 0.492 0.496 0.504 0.486 0.511\n",
      " 0.51  0.485 0.51  0.472 0.502 0.482 0.471 0.509 0.481 0.501 0.507 0.505\n",
      " 0.51  0.493 0.499 0.505 0.503 0.489 0.522 0.508 0.504 0.498 0.489 0.496\n",
      " 0.509 0.494 0.525 0.483 0.47  0.523 0.516 0.509 0.503 0.475 0.497 0.489\n",
      " 0.484 0.511 0.481 0.503 0.506 0.524 0.521 0.499 0.488 0.481 0.505 0.495\n",
      " 0.498 0.517 0.49  0.47  0.513 0.501 0.518 0.458 0.486 0.491 0.5   0.512\n",
      " 0.513 0.519 0.493 0.51 ] , std  0.014619914500433998\n"
     ]
    }
   ],
   "source": [
    "N = 1000\n",
    "N_trials = 100\n",
    "result = np.random.randint(2, size=(N, N_trials))\n",
    "print('Mean ', result.mean(axis=0), ', std ', result.mean(axis=0).std())"
   ]
  },
  {
   "cell_type": "code",
   "execution_count": 15,
   "metadata": {
    "ExecuteTime": {
     "end_time": "2018-03-26T14:53:25.669302Z",
     "start_time": "2018-03-26T14:53:25.666587Z"
    }
   },
   "outputs": [
    {
     "name": "stdout",
     "output_type": "stream",
     "text": [
      "Grand average= 0.49941\n"
     ]
    }
   ],
   "source": [
    "print('Grand average=', result.mean())"
   ]
  },
  {
   "cell_type": "code",
   "execution_count": 16,
   "metadata": {
    "ExecuteTime": {
     "end_time": "2018-03-26T14:53:25.872134Z",
     "start_time": "2018-03-26T14:53:25.670959Z"
    },
    "outputExpanded": false
   },
   "outputs": [],
   "source": [
    "%matplotlib inline\n",
    "import matplotlib.pyplot as plt"
   ]
  },
  {
   "cell_type": "code",
   "execution_count": 17,
   "metadata": {
    "ExecuteTime": {
     "end_time": "2018-03-26T14:53:26.186619Z",
     "start_time": "2018-03-26T14:53:25.873920Z"
    }
   },
   "outputs": [
    {
     "name": "stdout",
     "output_type": "stream",
     "text": [
      "Mean  [0.485 0.511 0.517 0.491 0.528 0.481 0.477 0.52  0.499 0.507 0.501 0.477\n",
      " 0.525 0.476 0.532 0.505 0.502 0.508 0.489 0.485 0.467 0.492 0.488 0.52\n",
      " 0.48  0.493 0.495 0.5   0.507 0.499 0.518 0.489 0.517 0.504 0.498 0.494\n",
      " 0.521 0.485 0.472 0.532 0.495 0.513 0.491 0.503 0.519 0.518 0.505 0.514\n",
      " 0.498 0.487 0.506 0.515 0.53  0.508 0.497 0.479 0.485 0.498 0.513 0.47\n",
      " 0.513 0.489 0.521 0.525 0.526 0.476 0.486 0.48  0.498 0.476 0.467 0.501\n",
      " 0.501 0.488 0.502 0.475 0.467 0.526 0.475 0.494 0.509 0.521 0.497 0.496\n",
      " 0.485 0.509 0.491 0.505 0.499 0.466 0.487 0.526 0.476 0.503 0.484 0.491\n",
      " 0.522 0.517 0.51  0.509] , std  0.01694166461715024\n"
     ]
    },
    {
     "data": {
      "image/png": "[encoded data removed]",
      "text/plain": [
       "<Figure size 936x576 with 1 Axes>"
      ]
     },
     "metadata": {},
     "output_type": "display_data"
    }
   ],
   "source": [
    "N = 1000\n",
    "N_trials = 100\n",
    "result = np.random.randint(2, size=(N, N_trials))\n",
    "print('Mean ', result.mean(axis=0), ', std ', result.mean(axis=0).std())\n",
    "fig, ax = plt.subplots(figsize=(13, 8))\n",
    "ax.hist(result.mean(axis=0), bins=np.linspace(0, 1, 100));"
   ]
  },
  {
   "cell_type": "code",
   "execution_count": 18,
   "metadata": {
    "ExecuteTime": {
     "end_time": "2018-03-26T14:53:26.472611Z",
     "start_time": "2018-03-26T14:53:26.188520Z"
    }
   },
   "outputs": [
    {
     "name": "stdout",
     "output_type": "stream",
     "text": [
      "Mean  [0.476 0.526 0.51  0.511 0.518 0.515 0.497 0.517 0.503 0.491 0.482 0.491\n",
      " 0.502 0.503 0.498 0.489 0.503 0.497 0.485 0.481 0.48  0.524 0.501 0.478\n",
      " 0.51  0.502 0.466 0.475 0.524 0.509 0.47  0.517 0.486 0.491 0.511 0.493\n",
      " 0.505 0.512 0.551 0.514 0.486 0.478 0.529 0.49  0.485 0.53  0.513 0.508\n",
      " 0.493 0.488 0.521 0.503 0.532 0.483 0.497 0.48  0.498 0.495 0.504 0.488\n",
      " 0.502 0.509 0.523 0.479 0.507 0.493 0.487 0.486 0.485 0.511 0.515 0.487\n",
      " 0.493 0.502 0.531 0.494 0.5   0.509 0.5   0.48  0.485 0.491 0.484 0.498\n",
      " 0.493 0.495 0.515 0.506 0.507 0.542 0.484 0.523 0.492 0.516 0.517 0.509\n",
      " 0.482 0.495 0.505 0.487] , std  0.016187785518717513\n"
     ]
    },
    {
     "data": {
      "image/png": "[encoded data removed]",
      "text/plain": [
       "<Figure size 936x576 with 1 Axes>"
      ]
     },
     "metadata": {},
     "output_type": "display_data"
    }
   ],
   "source": [
    "N = 1000\n",
    "N_trials = 100\n",
    "result = np.random.randint(2, size=(N, N_trials))\n",
    "print('Mean ', result.mean(axis=0), ', std ', result.mean(axis=0).std())\n",
    "fig, ax = plt.subplots(figsize=(13, 8))\n",
    "ax.hist(result.mean(axis=0), bins=np.linspace(0, 1, 100));"
   ]
  },
  {
   "cell_type": "code",
   "execution_count": 19,
   "metadata": {
    "ExecuteTime": {
     "end_time": "2018-03-26T14:53:26.779267Z",
     "start_time": "2018-03-26T14:53:26.474355Z"
    }
   },
   "outputs": [
    {
     "name": "stdout",
     "output_type": "stream",
     "text": [
      "Mean  [0.5067 0.5056 0.4995 0.5009 0.4999 0.4978 0.5013 0.5009 0.5045 0.4968\n",
      " 0.4969 0.4958 0.4839 0.4964 0.5073 0.5009 0.4961 0.4961 0.5067 0.5025\n",
      " 0.5053 0.501  0.4996 0.4957 0.4957 0.505  0.5006 0.4942 0.4973 0.511\n",
      " 0.4972 0.5027 0.495  0.5003 0.5017 0.4985 0.4978 0.5021 0.4988 0.4959\n",
      " 0.508  0.4914 0.4894 0.4984 0.4963 0.4995 0.4915 0.4971 0.4943 0.4986\n",
      " 0.494  0.5006 0.5009 0.5124 0.4986 0.5038 0.5014 0.5057 0.4998 0.4985\n",
      " 0.4965 0.5003 0.5071 0.4994 0.5005 0.506  0.4998 0.4986 0.5032 0.5102\n",
      " 0.4938 0.5092 0.4949 0.4977 0.5014 0.4957 0.4978 0.5023 0.5001 0.5054\n",
      " 0.4923 0.5035 0.5005 0.4935 0.505  0.5075 0.5016 0.4982 0.4967 0.4985\n",
      " 0.4954 0.507  0.5001 0.5041 0.4961 0.4966 0.4999 0.5066 0.5034 0.5   ] , std  0.004811930485782187\n"
     ]
    },
    {
     "data": {
      "image/png": "[encoded data removed]",
      "text/plain": [
       "<Figure size 936x576 with 1 Axes>"
      ]
     },
     "metadata": {},
     "output_type": "display_data"
    }
   ],
   "source": [
    "N = 10000\n",
    "N_trials = 100\n",
    "result = np.random.randint(2, size=(N, N_trials))\n",
    "print('Mean ', result.mean(axis=0), ', std ', result.mean(axis=0).std())\n",
    "fig, ax = plt.subplots(figsize=(13, 8))\n",
    "ax.hist(result.mean(axis=0), bins=np.linspace(0, 1, 100));"
   ]
  },
  {
   "cell_type": "code",
   "execution_count": 20,
   "metadata": {
    "ExecuteTime": {
     "end_time": "2018-03-26T14:53:27.085486Z",
     "start_time": "2018-03-26T14:53:26.780853Z"
    }
   },
   "outputs": [
    {
     "name": "stdout",
     "output_type": "stream",
     "text": [
      "Mean  [0.54 0.58 0.53 0.57 0.57 0.48 0.38 0.37 0.47 0.55 0.51 0.45 0.52 0.53\n",
      " 0.55 0.56 0.43 0.47 0.53 0.53 0.49 0.45 0.59 0.42 0.5  0.55 0.53 0.46\n",
      " 0.54 0.47 0.48 0.51 0.54 0.55 0.51 0.49 0.47 0.53 0.45 0.46 0.57 0.42\n",
      " 0.55 0.51 0.53 0.49 0.51 0.49 0.48 0.5  0.47 0.58 0.55 0.44 0.53 0.51\n",
      " 0.52 0.45 0.52 0.6  0.41 0.5  0.48 0.38 0.52 0.48 0.55 0.48 0.49 0.55\n",
      " 0.41 0.51 0.53 0.53 0.59 0.52 0.55 0.4  0.4  0.58 0.62 0.43 0.46 0.45\n",
      " 0.45 0.46 0.59 0.53 0.53 0.46 0.6  0.52 0.43 0.48 0.5  0.46 0.43 0.61\n",
      " 0.53 0.48] , std  0.054832380944110026\n"
     ]
    },
    {
     "data": {
      "image/png": "[encoded data removed]",
      "text/plain": [
       "<Figure size 936x576 with 1 Axes>"
      ]
     },
     "metadata": {},
     "output_type": "display_data"
    }
   ],
   "source": [
    "N = 100\n",
    "N_trials = 100\n",
    "result = np.random.randint(2, size=(N, N_trials))\n",
    "print('Mean ', result.mean(axis=0), ', std ', result.mean(axis=0).std())\n",
    "fig, ax = plt.subplots(figsize=(13, 8))\n",
    "ax.hist(result.mean(axis=0), bins=np.linspace(0, 1, 100));"
   ]
  },
  {
   "cell_type": "markdown",
   "metadata": {
    "inputHidden": false,
    "outputHidden": false
   },
   "source": [
    "## normal variable"
   ]
  },
  {
   "cell_type": "code",
   "execution_count": 21,
   "metadata": {
    "ExecuteTime": {
     "end_time": "2018-03-26T14:53:28.523787Z",
     "start_time": "2018-03-26T14:53:27.087299Z"
    }
   },
   "outputs": [
    {
     "name": "stdout",
     "output_type": "stream",
     "text": [
      "Mean  [0.4997 0.5063 0.5078 ... 0.5018 0.496  0.4958] , std  0.0049783006983407495\n"
     ]
    },
    {
     "data": {
      "image/png": "[encoded data removed]",
      "text/plain": [
       "<Figure size 936x576 with 1 Axes>"
      ]
     },
     "metadata": {},
     "output_type": "display_data"
    }
   ],
   "source": [
    "N = 10000\n",
    "N_trials = 10000\n",
    "result = np.random.randint(2, size=(N, N_trials))\n",
    "print('Mean ', result.mean(axis=0), ', std ', result.mean(axis=0).std())\n",
    "fig, ax = plt.subplots(figsize=(13, 8))\n",
    "ax.hist(result.mean(axis=0), bins=np.linspace(0.48, .52, 100));"
   ]
  },
  {
   "cell_type": "markdown",
   "metadata": {},
   "source": [
    "Central limit theorem:\n",
    "\n",
    "Over multiple measurements, the average of an identical random variable converges to a normal law :\n",
    "$$\n",
    "p (x) = \\frac {1} { \\sqrt{ 2\\pi } \\sigma} \\cdot \\exp{(- \\frac {1} {2} \\cdot \\frac {(x - m)^2} {\\sigma^2} )}\n",
    "$$\n",
    "\n",
    "(moreover, we know from this theorem that the asymptotic mean is the mean or the rv and that the variance decreases inversely proportionally with the number of measurements)"
   ]
  },
  {
   "cell_type": "code",
   "execution_count": 22,
   "metadata": {
    "ExecuteTime": {
     "end_time": "2018-03-26T14:53:29.151820Z",
     "start_time": "2018-03-26T14:53:28.525702Z"
    },
    "scrolled": false
   },
   "outputs": [
    {
     "data": {
      "image/png": "[encoded data removed]",
      "text/plain": [
       "<Figure size 936x576 with 1 Axes>"
      ]
     },
     "metadata": {},
     "output_type": "display_data"
    }
   ],
   "source": [
    "mean  = result.mean(axis=0).mean()\n",
    "std  = result.mean(axis=0).std()\n",
    "bins = np.linspace(0.48, .52, 100)\n",
    "\n",
    "fig, ax = plt.subplots(figsize=(13, 8))\n",
    "ax.hist(result.mean(axis=0), bins=bins, density=True)\n",
    "ax.plot(bins, 1 / np.sqrt(2*np.pi) / std * np.exp(-.5*(bins-mean)**2/std**2), 'r', lw=2 );"
   ]
  },
  {
   "cell_type": "markdown",
   "metadata": {},
   "source": [
    "The central limit theorem works with all forms of random variables:"
   ]
  },
  {
   "cell_type": "code",
   "execution_count": 23,
   "metadata": {
    "ExecuteTime": {
     "end_time": "2018-03-26T14:53:29.330712Z",
     "start_time": "2018-03-26T14:53:29.153625Z"
    }
   },
   "outputs": [
    {
     "name": "stdout",
     "output_type": "stream",
     "text": [
      "[[0.00171369 0.96595376 0.83023909 ... 0.04105371 0.42368541 0.6357397 ]\n",
      " [0.01521946 0.2219635  0.67244228 ... 0.96552362 0.40197924 0.99486788]\n",
      " [0.23706632 0.67498754 0.27517069 ... 0.73737953 0.07708386 0.21386145]\n",
      " ...\n",
      " [0.31260044 0.3549106  0.55412107 ... 0.74884317 0.73136397 0.07222437]\n",
      " [0.348714   0.7929561  0.54293327 ... 0.15417209 0.39694464 0.00396864]\n",
      " [0.08828091 0.90883479 0.44503667 ... 0.54928662 0.69323029 0.31599374]]\n"
     ]
    }
   ],
   "source": [
    "N = 10000\n",
    "N_trials = 1000\n",
    "result = np.random.rand(N, N_trials)\n",
    "print(result)"
   ]
  },
  {
   "cell_type": "code",
   "execution_count": 24,
   "metadata": {
    "ExecuteTime": {
     "end_time": "2018-03-26T14:53:29.673857Z",
     "start_time": "2018-03-26T14:53:29.332614Z"
    },
    "scrolled": false
   },
   "outputs": [
    {
     "data": {
      "image/png": "[encoded data removed]",
      "text/plain": [
       "<Figure size 936x576 with 1 Axes>"
      ]
     },
     "metadata": {},
     "output_type": "display_data"
    }
   ],
   "source": [
    "mean  = result.mean(axis=0).mean()\n",
    "std  = result.mean(axis=0).std()\n",
    "bins = np.linspace(0.48, .52, 100)\n",
    "\n",
    "fig, ax = plt.subplots(figsize=(13, 8))\n",
    "ax.hist(result.mean(axis=0), bins=bins, density=True)\n",
    "ax.plot(bins, 1 / np.sqrt(2*np.pi) / std * np.exp(-.5*(bins-mean)**2/std**2), 'r', lw=2 );"
   ]
  },
  {
   "cell_type": "code",
   "execution_count": 25,
   "metadata": {
    "ExecuteTime": {
     "end_time": "2018-03-26T14:53:30.275852Z",
     "start_time": "2018-03-26T14:53:29.675880Z"
    },
    "scrolled": false
   },
   "outputs": [
    {
     "data": {
      "image/png": "[encoded data removed]",
      "text/plain": [
       "<Figure size 936x576 with 1 Axes>"
      ]
     },
     "metadata": {},
     "output_type": "display_data"
    }
   ],
   "source": [
    "N = 10000\n",
    "N_trials = 1000\n",
    "result = np.random.randn(N, N_trials) + .5\n",
    "\n",
    "mean  = result.mean(axis=0).mean()\n",
    "std  = result.mean(axis=0).std()\n",
    "bins = np.linspace(0.48, .52, 100)\n",
    "\n",
    "fig, ax = plt.subplots(figsize=(13, 8))\n",
    "ax.hist(result.mean(axis=0), bins=bins, density=True)\n",
    "ax.plot(bins, 1 / np.sqrt(2*np.pi) / std * np.exp(-.5*(bins-mean)**2/std**2), 'r', lw=2 );"
   ]
  }
 ],
 "metadata": {
  "kernel_info": {
   "name": "python3"
  },
  "kernelspec": {
   "display_name": "Python 3",
   "language": "python",
   "name": "python3"
  },
  "language_info": {
   "codemirror_mode": {
    "name": "ipython",
    "version": 3
   },
   "file_extension": ".py",
   "mimetype": "text/x-python",
   "name": "python",
   "nbconvert_exporter": "python",
   "pygments_lexer": "ipython3",
   "version": "3.6.4"
  },
  "nteract": {
   "version": "0.8.3"
  },
  "toc": {
   "nav_menu": {},
   "number_sections": true,
   "sideBar": true,
   "skip_h1_title": false,
   "title_cell": "Table of Contents",
   "title_sidebar": "Contents",
   "toc_cell": false,
   "toc_position": {},
   "toc_section_display": true,
   "toc_window_display": false
  }
 },
 "nbformat": 4,
 "nbformat_minor": 1
}
