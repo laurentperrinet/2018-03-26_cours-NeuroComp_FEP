{
 "cells": [
  {
   "cell_type": "markdown",
   "metadata": {
    "collapsed": false,
    "deletable": true,
    "editable": true,
    "inputHidden": false,
    "outputHidden": false
   },
   "source": [
    "# basics of probability theory\n",
    "\n",
    "In the context of a [course in Computational Neuroscience](http://invibe.net/LaurentPerrinet/Presentations/2017-03-06_cours-NeuroComp), I am teaching a basic introduction in [Probabilities, Bayes and the Free-energy principle](http://blog.invibe.net/files/2017-03-13_NeuroComp_FEP.html).\n",
    "\n",
    "Let's learn to use probabilities in practice by generating some \"synthetic data\", that is by using the computer's number generator. \n",
    "\n",
    "\n",
    "<!-- TEASER_END -->\n",
    "\n",
    "\n",
    "\n",
    "Let's begin with a dice:\n",
    "\n",
    "\n",
    "## dice"
   ]
  },
  {
   "cell_type": "code",
   "execution_count": 1,
   "metadata": {
    "collapsed": false
   },
   "outputs": [
    {
     "data": {
      "text/plain": [
       "<module 'numpy' from '/usr/local/lib/python3.6/site-packages/numpy/__init__.py'>"
      ]
     },
     "execution_count": 1,
     "metadata": {},
     "output_type": "execute_result"
    }
   ],
   "source": [
    "import numpy as np\n",
    "np"
   ]
  },
  {
   "cell_type": "code",
   "execution_count": 2,
   "metadata": {
    "collapsed": false
   },
   "outputs": [
    {
     "data": {
      "text/plain": [
       "<module 'numpy.random' from '/usr/local/lib/python3.6/site-packages/numpy/random/__init__.py'>"
      ]
     },
     "execution_count": 2,
     "metadata": {},
     "output_type": "execute_result"
    }
   ],
   "source": [
    "np.random"
   ]
  },
  {
   "cell_type": "code",
   "execution_count": 3,
   "metadata": {
    "collapsed": false
   },
   "outputs": [
    {
     "data": {
      "text/plain": [
       "<function RandomState.logistic>"
      ]
     },
     "execution_count": 3,
     "metadata": {},
     "output_type": "execute_result"
    }
   ],
   "source": [
    "np.random.logistic"
   ]
  },
  {
   "cell_type": "code",
   "execution_count": null,
   "metadata": {
    "collapsed": true
   },
   "outputs": [],
   "source": []
  },
  {
   "cell_type": "code",
   "execution_count": 4,
   "metadata": {
    "collapsed": false,
    "deletable": true,
    "editable": true
   },
   "outputs": [
    {
     "name": "stdout",
     "output_type": "stream",
     "text": [
      "Help on built-in function randint:\n",
      "\n",
      "randint(...) method of mtrand.RandomState instance\n",
      "    randint(low, high=None, size=None, dtype='l')\n",
      "    \n",
      "    Return random integers from `low` (inclusive) to `high` (exclusive).\n",
      "    \n",
      "    Return random integers from the \"discrete uniform\" distribution of\n",
      "    the specified dtype in the \"half-open\" interval [`low`, `high`). If\n",
      "    `high` is None (the default), then results are from [0, `low`).\n",
      "    \n",
      "    Parameters\n",
      "    ----------\n",
      "    low : int\n",
      "        Lowest (signed) integer to be drawn from the distribution (unless\n",
      "        ``high=None``, in which case this parameter is one above the\n",
      "        *highest* such integer).\n",
      "    high : int, optional\n",
      "        If provided, one above the largest (signed) integer to be drawn\n",
      "        from the distribution (see above for behavior if ``high=None``).\n",
      "    size : int or tuple of ints, optional\n",
      "        Output shape.  If the given shape is, e.g., ``(m, n, k)``, then\n",
      "        ``m * n * k`` samples are drawn.  Default is None, in which case a\n",
      "        single value is returned.\n",
      "    dtype : dtype, optional\n",
      "        Desired dtype of the result. All dtypes are determined by their\n",
      "        name, i.e., 'int64', 'int', etc, so byteorder is not available\n",
      "        and a specific precision may have different C types depending\n",
      "        on the platform. The default value is 'np.int'.\n",
      "    \n",
      "        .. versionadded:: 1.11.0\n",
      "    \n",
      "    Returns\n",
      "    -------\n",
      "    out : int or ndarray of ints\n",
      "        `size`-shaped array of random integers from the appropriate\n",
      "        distribution, or a single such random int if `size` not provided.\n",
      "    \n",
      "    See Also\n",
      "    --------\n",
      "    random.random_integers : similar to `randint`, only for the closed\n",
      "        interval [`low`, `high`], and 1 is the lowest value if `high` is\n",
      "        omitted. In particular, this other one is the one to use to generate\n",
      "        uniformly distributed discrete non-integers.\n",
      "    \n",
      "    Examples\n",
      "    --------\n",
      "    >>> np.random.randint(2, size=10)\n",
      "    array([1, 0, 0, 0, 1, 1, 0, 0, 1, 0])\n",
      "    >>> np.random.randint(1, size=10)\n",
      "    array([0, 0, 0, 0, 0, 0, 0, 0, 0, 0])\n",
      "    \n",
      "    Generate a 2 x 4 array of ints between 0 and 4, inclusive:\n",
      "    \n",
      "    >>> np.random.randint(5, size=(2, 4))\n",
      "    array([[4, 0, 2, 1],\n",
      "           [3, 2, 2, 0]])\n",
      "\n"
     ]
    }
   ],
   "source": [
    "help(np.random.randint)"
   ]
  },
  {
   "cell_type": "code",
   "execution_count": 5,
   "metadata": {
    "collapsed": false,
    "deletable": true,
    "editable": true
   },
   "outputs": [
    {
     "data": {
      "text/plain": [
       "array([5, 4, 2, 5, 3, 5, 5, 0, 4, 1])"
      ]
     },
     "execution_count": 5,
     "metadata": {},
     "output_type": "execute_result"
    }
   ],
   "source": [
    "np.random.randint(6, size=10)"
   ]
  },
  {
   "cell_type": "markdown",
   "metadata": {
    "collapsed": false,
    "deletable": true,
    "editable": true,
    "inputHidden": false,
    "outputHidden": false
   },
   "source": [
    "## a note on RNGs\n",
    "\n",
    "On a computer, randomness is (possibly) deterministic !\n"
   ]
  },
  {
   "cell_type": "code",
   "execution_count": 6,
   "metadata": {
    "collapsed": false,
    "deletable": true,
    "editable": true
   },
   "outputs": [
    {
     "data": {
      "text/plain": [
       "array([3, 3, 0, 3, 4, 4, 3, 1, 4, 3])"
      ]
     },
     "execution_count": 6,
     "metadata": {},
     "output_type": "execute_result"
    }
   ],
   "source": [
    "np.random.randint(6, size=10)"
   ]
  },
  {
   "cell_type": "code",
   "execution_count": 7,
   "metadata": {
    "collapsed": false,
    "deletable": true,
    "editable": true
   },
   "outputs": [
    {
     "data": {
      "text/plain": [
       "array([3, 4, 2, 4, 4, 1, 2, 2, 2, 4])"
      ]
     },
     "execution_count": 7,
     "metadata": {},
     "output_type": "execute_result"
    }
   ],
   "source": [
    "np.random.seed(42)\n",
    "np.random.randint(6, size=10)"
   ]
  },
  {
   "cell_type": "code",
   "execution_count": 8,
   "metadata": {
    "collapsed": false,
    "deletable": true,
    "editable": true
   },
   "outputs": [
    {
     "data": {
      "text/plain": [
       "array([4, 0, 1, 5, 2, 0, 3, 1, 3, 3])"
      ]
     },
     "execution_count": 8,
     "metadata": {},
     "output_type": "execute_result"
    }
   ],
   "source": [
    "np.random.seed(43)\n",
    "np.random.randint(6, size=10)"
   ]
  },
  {
   "cell_type": "code",
   "execution_count": 9,
   "metadata": {
    "collapsed": false,
    "deletable": true,
    "editable": true
   },
   "outputs": [
    {
     "data": {
      "text/plain": [
       "array([3, 4, 2, 4, 4, 1, 2, 2, 2, 4])"
      ]
     },
     "execution_count": 9,
     "metadata": {},
     "output_type": "execute_result"
    }
   ],
   "source": [
    "np.random.seed(42)\n",
    "np.random.randint(6, size=10)"
   ]
  },
  {
   "cell_type": "code",
   "execution_count": 10,
   "metadata": {
    "collapsed": false,
    "deletable": true,
    "editable": true
   },
   "outputs": [
    {
     "data": {
      "text/plain": [
       "array([1, 5, 2, 1, 0, 4, 0, 2, 1, 1])"
      ]
     },
     "execution_count": 10,
     "metadata": {},
     "output_type": "execute_result"
    }
   ],
   "source": [
    "np.random.seed(None)\n",
    "np.random.randint(6, size=10)"
   ]
  },
  {
   "cell_type": "markdown",
   "metadata": {
    "collapsed": false,
    "deletable": true,
    "editable": true,
    "inputHidden": false,
    "outputHidden": false
   },
   "source": [
    "## coin"
   ]
  },
  {
   "cell_type": "code",
   "execution_count": 11,
   "metadata": {
    "collapsed": false,
    "deletable": true,
    "editable": true
   },
   "outputs": [
    {
     "name": "stdout",
     "output_type": "stream",
     "text": [
      "[1 1 0 1 1 0 1 1 0 1]\n"
     ]
    }
   ],
   "source": [
    "result = np.random.randint(2, size=10)\n",
    "print(result)"
   ]
  },
  {
   "cell_type": "code",
   "execution_count": 12,
   "metadata": {
    "collapsed": false
   },
   "outputs": [
    {
     "data": {
      "text/plain": [
       "(0.69999999999999996, 0.45825756949558394, 0.20999999999999996)"
      ]
     },
     "execution_count": 12,
     "metadata": {},
     "output_type": "execute_result"
    }
   ],
   "source": [
    "result.mean(), result.std(), result.var()"
   ]
  },
  {
   "cell_type": "code",
   "execution_count": 13,
   "metadata": {
    "collapsed": false,
    "deletable": true,
    "editable": true
   },
   "outputs": [
    {
     "name": "stdout",
     "output_type": "stream",
     "text": [
      "Mean  0.495 , std  0.499974999375\n"
     ]
    }
   ],
   "source": [
    "N = 1000\n",
    "result = np.random.randint(2, size=N)\n",
    "print('Mean ', result.mean(), ', std ', result.std())"
   ]
  },
  {
   "cell_type": "code",
   "execution_count": 14,
   "metadata": {
    "collapsed": false,
    "deletable": true,
    "editable": true
   },
   "outputs": [
    {
     "name": "stdout",
     "output_type": "stream",
     "text": [
      "Mean  [ 0.54   0.516  0.475  0.501  0.498  0.505  0.488  0.499  0.495  0.498\n",
      "  0.512  0.503  0.515  0.512  0.501  0.504  0.491  0.465  0.475  0.49\n",
      "  0.496  0.508  0.508  0.498  0.51   0.49   0.519  0.495  0.503  0.521\n",
      "  0.513  0.492  0.455  0.474  0.509  0.507  0.49   0.489  0.494  0.493\n",
      "  0.509  0.497  0.494  0.495  0.482  0.514  0.493  0.494  0.501  0.517\n",
      "  0.492  0.525  0.507  0.501  0.483  0.501  0.497  0.469  0.49   0.515  0.5\n",
      "  0.487  0.49   0.488  0.502  0.499  0.495  0.49   0.538  0.5    0.499\n",
      "  0.513  0.508  0.5    0.491  0.492  0.516  0.481  0.503  0.518  0.514\n",
      "  0.487  0.497  0.489  0.489  0.523  0.498  0.491  0.495  0.526  0.5    0.513\n",
      "  0.482  0.507  0.488  0.489  0.487  0.501  0.485  0.509] , std  0.0140053239877\n"
     ]
    }
   ],
   "source": [
    "N = 1000\n",
    "N_trials = 100\n",
    "result = np.random.randint(2, size=(N, N_trials))\n",
    "print('Mean ', result.mean(axis=0), ', std ', result.mean(axis=0).std())"
   ]
  },
  {
   "cell_type": "code",
   "execution_count": 15,
   "metadata": {
    "collapsed": false
   },
   "outputs": [
    {
     "name": "stdout",
     "output_type": "stream",
     "text": [
      "Grand average= 0.49903\n"
     ]
    }
   ],
   "source": [
    "print('Grand average=', result.mean())"
   ]
  },
  {
   "cell_type": "code",
   "execution_count": 16,
   "metadata": {
    "collapsed": true,
    "deletable": true,
    "editable": true,
    "outputExpanded": false
   },
   "outputs": [],
   "source": [
    "%matplotlib inline\n",
    "import matplotlib.pyplot as plt"
   ]
  },
  {
   "cell_type": "code",
   "execution_count": 17,
   "metadata": {
    "collapsed": false,
    "deletable": true,
    "editable": true
   },
   "outputs": [
    {
     "name": "stdout",
     "output_type": "stream",
     "text": [
      "Mean  [ 0.511  0.52   0.528  0.508  0.488  0.516  0.498  0.501  0.495  0.489\n",
      "  0.507  0.486  0.509  0.503  0.539  0.515  0.519  0.5    0.495  0.505\n",
      "  0.489  0.501  0.512  0.507  0.479  0.502  0.525  0.489  0.514  0.498\n",
      "  0.494  0.533  0.506  0.518  0.519  0.509  0.486  0.51   0.483  0.52\n",
      "  0.496  0.482  0.503  0.495  0.456  0.526  0.499  0.464  0.539  0.521\n",
      "  0.482  0.505  0.477  0.521  0.518  0.499  0.51   0.511  0.5    0.494\n",
      "  0.496  0.502  0.497  0.486  0.51   0.486  0.536  0.493  0.497  0.512\n",
      "  0.527  0.512  0.492  0.53   0.487  0.479  0.493  0.5    0.521  0.478\n",
      "  0.51   0.475  0.522  0.498  0.508  0.486  0.487  0.511  0.52   0.49\n",
      "  0.498  0.504  0.495  0.499  0.503  0.508  0.499  0.502  0.477  0.5  ] , std  0.0157819517171\n"
     ]
    },
    {
     "data": {
      "image/png": "[encoded data removed]",
      "text/plain": [
       "<matplotlib.figure.Figure at 0x106eab828>"
      ]
     },
     "metadata": {},
     "output_type": "display_data"
    }
   ],
   "source": [
    "N = 1000\n",
    "N_trials = 100\n",
    "result = np.random.randint(2, size=(N, N_trials))\n",
    "print('Mean ', result.mean(axis=0), ', std ', result.mean(axis=0).std())\n",
    "fig, ax = plt.subplots(figsize=(13, 8))\n",
    "ax.hist(result.mean(axis=0), bins=np.linspace(0, 1, 100));"
   ]
  },
  {
   "cell_type": "code",
   "execution_count": 18,
   "metadata": {
    "collapsed": false,
    "deletable": true,
    "editable": true
   },
   "outputs": [
    {
     "name": "stdout",
     "output_type": "stream",
     "text": [
      "Mean  [ 0.479  0.503  0.497  0.504  0.498  0.501  0.529  0.495  0.523  0.496\n",
      "  0.527  0.486  0.495  0.506  0.498  0.53   0.509  0.487  0.483  0.511\n",
      "  0.485  0.526  0.491  0.483  0.496  0.477  0.515  0.519  0.509  0.517\n",
      "  0.505  0.497  0.515  0.517  0.506  0.504  0.491  0.482  0.528  0.5    0.526\n",
      "  0.517  0.485  0.497  0.495  0.518  0.482  0.502  0.489  0.499  0.512\n",
      "  0.511  0.475  0.525  0.501  0.486  0.496  0.492  0.466  0.474  0.515\n",
      "  0.507  0.477  0.504  0.516  0.52   0.48   0.511  0.48   0.482  0.486\n",
      "  0.493  0.501  0.535  0.466  0.517  0.505  0.499  0.529  0.499  0.49\n",
      "  0.501  0.503  0.497  0.521  0.499  0.511  0.5    0.474  0.482  0.48\n",
      "  0.508  0.509  0.498  0.489  0.515  0.516  0.516  0.486  0.524] , std  0.0157702853494\n"
     ]
    },
    {
     "data": {
      "image/png": "[encoded data removed]",
      "text/plain": [
       "<matplotlib.figure.Figure at 0x106557588>"
      ]
     },
     "metadata": {},
     "output_type": "display_data"
    }
   ],
   "source": [
    "N = 1000\n",
    "N_trials = 100\n",
    "result = np.random.randint(2, size=(N, N_trials))\n",
    "print('Mean ', result.mean(axis=0), ', std ', result.mean(axis=0).std())\n",
    "fig, ax = plt.subplots(figsize=(13, 8))\n",
    "ax.hist(result.mean(axis=0), bins=np.linspace(0, 1, 100));"
   ]
  },
  {
   "cell_type": "code",
   "execution_count": 19,
   "metadata": {
    "collapsed": false,
    "deletable": true,
    "editable": true
   },
   "outputs": [
    {
     "name": "stdout",
     "output_type": "stream",
     "text": [
      "Mean  [ 0.5011  0.5041  0.5005  0.5067  0.5032  0.4995  0.4971  0.4955  0.5015\n",
      "  0.5007  0.494   0.5011  0.5096  0.4999  0.5026  0.4957  0.501   0.5026\n",
      "  0.4958  0.5032  0.4963  0.5     0.5026  0.5034  0.4952  0.5011  0.4997\n",
      "  0.5093  0.4984  0.5014  0.4954  0.4989  0.4913  0.5009  0.5028  0.493\n",
      "  0.4945  0.4978  0.4915  0.5052  0.4921  0.5     0.5025  0.4997  0.4981\n",
      "  0.4974  0.5049  0.4991  0.5078  0.5018  0.4962  0.4976  0.498   0.5034\n",
      "  0.5003  0.4972  0.5028  0.5005  0.5024  0.4973  0.4928  0.5032  0.4942\n",
      "  0.499   0.5004  0.4912  0.5016  0.5043  0.4966  0.5007  0.4991  0.5002\n",
      "  0.4989  0.5114  0.4995  0.5002  0.5009  0.5028  0.5035  0.4974  0.5052\n",
      "  0.4942  0.498   0.5001  0.5051  0.4962  0.4843  0.499   0.496   0.4992\n",
      "  0.5033  0.4913  0.5043  0.4986  0.5018  0.4934  0.4963  0.5063  0.5065\n",
      "  0.5078] , std  0.00448078118189\n"
     ]
    },
    {
     "data": {
      "image/png": "[encoded data removed]",
      "text/plain": [
       "<matplotlib.figure.Figure at 0x10780e240>"
      ]
     },
     "metadata": {},
     "output_type": "display_data"
    }
   ],
   "source": [
    "N = 10000\n",
    "N_trials = 100\n",
    "result = np.random.randint(2, size=(N, N_trials))\n",
    "print('Mean ', result.mean(axis=0), ', std ', result.mean(axis=0).std())\n",
    "fig, ax = plt.subplots(figsize=(13, 8))\n",
    "ax.hist(result.mean(axis=0), bins=np.linspace(0, 1, 100));"
   ]
  },
  {
   "cell_type": "code",
   "execution_count": 20,
   "metadata": {
    "collapsed": false,
    "deletable": true,
    "editable": true
   },
   "outputs": [
    {
     "name": "stdout",
     "output_type": "stream",
     "text": [
      "Mean  [ 0.56  0.5   0.52  0.48  0.42  0.5   0.5   0.53  0.47  0.46  0.51  0.46\n",
      "  0.46  0.45  0.52  0.47  0.52  0.41  0.43  0.49  0.51  0.58  0.47  0.47\n",
      "  0.57  0.44  0.44  0.52  0.56  0.46  0.55  0.54  0.47  0.52  0.51  0.57\n",
      "  0.43  0.56  0.51  0.51  0.58  0.54  0.44  0.44  0.55  0.47  0.52  0.47\n",
      "  0.52  0.47  0.57  0.52  0.46  0.47  0.58  0.5   0.48  0.47  0.42  0.5\n",
      "  0.52  0.51  0.49  0.49  0.53  0.45  0.53  0.5   0.54  0.52  0.56  0.49\n",
      "  0.54  0.53  0.42  0.45  0.5   0.4   0.43  0.55  0.56  0.49  0.46  0.46\n",
      "  0.5   0.61  0.52  0.57  0.51  0.56  0.56  0.53  0.49  0.51  0.4   0.56\n",
      "  0.51  0.51  0.49  0.45] , std  0.0459995652153\n"
     ]
    },
    {
     "data": {
      "image/png": "[encoded data removed]",
      "text/plain": [
       "<matplotlib.figure.Figure at 0x1081db6a0>"
      ]
     },
     "metadata": {},
     "output_type": "display_data"
    }
   ],
   "source": [
    "N = 100\n",
    "N_trials = 100\n",
    "result = np.random.randint(2, size=(N, N_trials))\n",
    "print('Mean ', result.mean(axis=0), ', std ', result.mean(axis=0).std())\n",
    "fig, ax = plt.subplots(figsize=(13, 8))\n",
    "ax.hist(result.mean(axis=0), bins=np.linspace(0, 1, 100));"
   ]
  },
  {
   "cell_type": "markdown",
   "metadata": {
    "collapsed": false,
    "deletable": true,
    "editable": true,
    "inputHidden": false,
    "outputHidden": false
   },
   "source": [
    "## normal variable"
   ]
  },
  {
   "cell_type": "code",
   "execution_count": 21,
   "metadata": {
    "collapsed": false,
    "deletable": true,
    "editable": true
   },
   "outputs": [
    {
     "name": "stdout",
     "output_type": "stream",
     "text": [
      "Mean  [ 0.50195  0.49787  0.50032 ...,  0.50307  0.49871  0.49993] , std  0.00160510109458\n"
     ]
    },
    {
     "data": {
      "image/png": "[encoded data removed]",
      "text/plain": [
       "<matplotlib.figure.Figure at 0x107483d30>"
      ]
     },
     "metadata": {},
     "output_type": "display_data"
    }
   ],
   "source": [
    "N = 100000\n",
    "N_trials = 10000\n",
    "result = np.random.randint(2, size=(N, N_trials))\n",
    "print('Mean ', result.mean(axis=0), ', std ', result.mean(axis=0).std())\n",
    "fig, ax = plt.subplots(figsize=(13, 8))\n",
    "ax.hist(result.mean(axis=0), bins=np.linspace(0.49, .51, 100));"
   ]
  },
  {
   "cell_type": "markdown",
   "metadata": {
    "deletable": true,
    "editable": true
   },
   "source": [
    "Central limit theorem:\n",
    "\n",
    "Over multiple measurements, the average of an identical random variable converges to a normal law :\n",
    "$$\n",
    "p (x) = \\frac {1} { \\sqrt{ 2\\pi } \\sigma} \\cdot \\exp{(- \\frac {1} {2} \\cdot \\frac {(x - m)^2} {\\sigma^2} )}\n",
    "$$\n",
    "\n",
    "(moreover, we know from this theorem that the asymptotic mean is the mean or the rv and that the variance decreases inversely proportionally with the number of measurements)"
   ]
  },
  {
   "cell_type": "code",
   "execution_count": 22,
   "metadata": {
    "collapsed": false,
    "deletable": true,
    "editable": true,
    "scrolled": false
   },
   "outputs": [
    {
     "data": {
      "image/png": "[encoded data removed]",
      "text/plain": [
       "<matplotlib.figure.Figure at 0x103ad86a0>"
      ]
     },
     "metadata": {},
     "output_type": "display_data"
    }
   ],
   "source": [
    "mean  = result.mean(axis=0).mean()\n",
    "std  = result.mean(axis=0).std()\n",
    "bins = np.linspace(0.49, .51, 100)\n",
    "\n",
    "fig, ax = plt.subplots(figsize=(13, 8))\n",
    "ax.hist(result.mean(axis=0), bins=bins, normed=True)\n",
    "ax.plot(bins, 1 / np.sqrt(2*np.pi) / std * np.exp(-.5*(bins-mean)**2/std**2), 'r', lw=2 );"
   ]
  },
  {
   "cell_type": "markdown",
   "metadata": {
    "deletable": true,
    "editable": true
   },
   "source": [
    "The central limit theorem works with all forms of random variables:"
   ]
  },
  {
   "cell_type": "code",
   "execution_count": 23,
   "metadata": {
    "collapsed": false
   },
   "outputs": [
    {
     "name": "stdout",
     "output_type": "stream",
     "text": [
      "[[ 0.44869862  0.57662481  0.18603079 ...,  0.15279605  0.59446338\n",
      "   0.57548346]\n",
      " [ 0.17774894  0.49783666  0.27971604 ...,  0.62650323  0.43497046\n",
      "   0.14628423]\n",
      " [ 0.55741204  0.06820418  0.68217069 ...,  0.69438983  0.56086557\n",
      "   0.0021194 ]\n",
      " ..., \n",
      " [ 0.29663497  0.24120372  0.57932703 ...,  0.89435831  0.5468314\n",
      "   0.07252068]\n",
      " [ 0.88196308  0.37744147  0.2177457  ...,  0.02152461  0.77621035\n",
      "   0.50561815]\n",
      " [ 0.61974228  0.08479278  0.48558868 ...,  0.91904245  0.18800096\n",
      "   0.63077166]]\n"
     ]
    }
   ],
   "source": [
    "N = 100000\n",
    "N_trials = 1000\n",
    "result = np.random.rand(N, N_trials)\n",
    "print(result)"
   ]
  },
  {
   "cell_type": "code",
   "execution_count": 24,
   "metadata": {
    "collapsed": false,
    "deletable": true,
    "editable": true,
    "scrolled": false
   },
   "outputs": [
    {
     "data": {
      "image/png": "[encoded data removed]",
      "text/plain": [
       "<matplotlib.figure.Figure at 0x1071a1828>"
      ]
     },
     "metadata": {},
     "output_type": "display_data"
    }
   ],
   "source": [
    "mean  = result.mean(axis=0).mean()\n",
    "std  = result.mean(axis=0).std()\n",
    "bins = np.linspace(0.49, .51, 100)\n",
    "\n",
    "fig, ax = plt.subplots(figsize=(13, 8))\n",
    "ax.hist(result.mean(axis=0), bins=bins, normed=True)\n",
    "ax.plot(bins, 1 / np.sqrt(2*np.pi) / std * np.exp(-.5*(bins-mean)**2/std**2), 'r', lw=2 );"
   ]
  },
  {
   "cell_type": "code",
   "execution_count": 25,
   "metadata": {
    "collapsed": false,
    "deletable": true,
    "editable": true,
    "scrolled": false
   },
   "outputs": [
    {
     "data": {
      "image/png": "[encoded data removed]",
      "text/plain": [
       "<matplotlib.figure.Figure at 0x1086642e8>"
      ]
     },
     "metadata": {},
     "output_type": "display_data"
    }
   ],
   "source": [
    "N = 100000\n",
    "N_trials = 1000\n",
    "result = np.random.randn(N, N_trials) + .5\n",
    "\n",
    "mean  = result.mean(axis=0).mean()\n",
    "std  = result.mean(axis=0).std()\n",
    "bins = np.linspace(0.49, .51, 100)\n",
    "\n",
    "fig, ax = plt.subplots(figsize=(13, 8))\n",
    "ax.hist(result.mean(axis=0), bins=bins, normed=True)\n",
    "ax.plot(bins, 1 / np.sqrt(2*np.pi) / std * np.exp(-.5*(bins-mean)**2/std**2), 'r', lw=2 );"
   ]
  }
 ],
 "metadata": {
  "kernel_info": {
   "name": "python3"
  },
  "kernelspec": {
   "display_name": "Python 3",
   "language": "python",
   "name": "python3"
  },
  "language_info": {
   "codemirror_mode": {
    "name": "ipython",
    "version": 3
   },
   "file_extension": ".py",
   "mimetype": "text/x-python",
   "name": "python",
   "nbconvert_exporter": "python",
   "pygments_lexer": "ipython3",
   "version": "3.6.0"
  }
 },
 "nbformat": 4,
 "nbformat_minor": 1
}
