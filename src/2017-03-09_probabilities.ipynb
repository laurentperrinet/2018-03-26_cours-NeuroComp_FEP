{
 "cells": [
  {
   "cell_type": "markdown",
   "metadata": {
    "inputHidden": false,
    "outputHidden": false
   },
   "source": [
    "# basics of probability theory\n",
    "\n",
    "In the context of a [course in Computational Neuroscience](https://invibe.net/LaurentPerrinet/Presentations/2018-03-26_cours-NeuroComp), I am teaching a basic introduction in [Probabilities, Bayes and the Free-energy principle](http://blog.invibe.net/files/2018-03-26_cours-NeuroComp_FEP.html).\n",
    "\n",
    "Let's learn to use probabilities in practice by generating some \"synthetic data\", that is by using the computer's number generator. \n",
    "2018-03-26_cours-NeuroComp_FEP\n",
    "\n",
    "<!-- TEASER_END -->\n",
    "\n",
    "\n",
    "\n",
    "Let's begin with a dice:\n",
    "\n",
    "\n",
    "## dice"
   ]
  },
  {
   "cell_type": "code",
   "execution_count": null,
   "metadata": {
    "ExecuteTime": {
     "end_time": "2018-03-26T14:41:12.063412Z",
     "start_time": "2018-03-26T14:41:11.986726Z"
    }
   },
   "outputs": [],
   "source": [
    "import numpy as np\n",
    "np"
   ]
  },
  {
   "cell_type": "code",
   "execution_count": null,
   "metadata": {
    "ExecuteTime": {
     "end_time": "2018-03-26T14:41:12.068040Z",
     "start_time": "2018-03-26T14:41:12.065112Z"
    }
   },
   "outputs": [],
   "source": [
    "np.random"
   ]
  },
  {
   "cell_type": "code",
   "execution_count": null,
   "metadata": {
    "ExecuteTime": {
     "end_time": "2018-03-26T14:41:12.072817Z",
     "start_time": "2018-03-26T14:41:12.069580Z"
    }
   },
   "outputs": [],
   "source": [
    "np.random.logistic"
   ]
  },
  {
   "cell_type": "code",
   "execution_count": null,
   "metadata": {
    "ExecuteTime": {
     "end_time": "2018-03-26T14:41:12.077413Z",
     "start_time": "2018-03-26T14:41:12.074409Z"
    }
   },
   "outputs": [],
   "source": [
    "help(np.random.randint)"
   ]
  },
  {
   "cell_type": "code",
   "execution_count": null,
   "metadata": {
    "ExecuteTime": {
     "end_time": "2018-03-26T14:41:12.082606Z",
     "start_time": "2018-03-26T14:41:12.078970Z"
    }
   },
   "outputs": [],
   "source": [
    "np.random.randint(6, size=10)"
   ]
  },
  {
   "cell_type": "markdown",
   "metadata": {
    "inputHidden": false,
    "outputHidden": false
   },
   "source": [
    "## a note on RNGs\n",
    "\n",
    "On a computer, randomness is (possibly) deterministic !\n"
   ]
  },
  {
   "cell_type": "code",
   "execution_count": null,
   "metadata": {
    "ExecuteTime": {
     "end_time": "2018-03-26T14:41:12.087444Z",
     "start_time": "2018-03-26T14:41:12.084279Z"
    }
   },
   "outputs": [],
   "source": [
    "np.random.randint(6, size=10)"
   ]
  },
  {
   "cell_type": "code",
   "execution_count": null,
   "metadata": {
    "ExecuteTime": {
     "end_time": "2018-03-26T14:41:12.092840Z",
     "start_time": "2018-03-26T14:41:12.089298Z"
    }
   },
   "outputs": [],
   "source": [
    "np.random.seed(42)\n",
    "np.random.randint(6, size=10)"
   ]
  },
  {
   "cell_type": "code",
   "execution_count": null,
   "metadata": {
    "ExecuteTime": {
     "end_time": "2018-03-26T14:41:12.098035Z",
     "start_time": "2018-03-26T14:41:12.094473Z"
    }
   },
   "outputs": [],
   "source": [
    "np.random.seed(43)\n",
    "np.random.randint(6, size=10)"
   ]
  },
  {
   "cell_type": "code",
   "execution_count": null,
   "metadata": {
    "ExecuteTime": {
     "end_time": "2018-03-26T14:41:12.103722Z",
     "start_time": "2018-03-26T14:41:12.099591Z"
    }
   },
   "outputs": [],
   "source": [
    "np.random.seed(42)\n",
    "np.random.randint(6, size=10)"
   ]
  },
  {
   "cell_type": "code",
   "execution_count": null,
   "metadata": {
    "ExecuteTime": {
     "end_time": "2018-03-26T14:41:12.112927Z",
     "start_time": "2018-03-26T14:41:12.105148Z"
    }
   },
   "outputs": [],
   "source": [
    "np.random.seed(None)\n",
    "np.random.randint(6, size=10)"
   ]
  },
  {
   "cell_type": "markdown",
   "metadata": {
    "inputHidden": false,
    "outputHidden": false
   },
   "source": [
    "## coin"
   ]
  },
  {
   "cell_type": "code",
   "execution_count": null,
   "metadata": {
    "ExecuteTime": {
     "end_time": "2018-03-26T14:41:12.117452Z",
     "start_time": "2018-03-26T14:41:12.114550Z"
    }
   },
   "outputs": [],
   "source": [
    "result = np.random.randint(2, size=10)\n",
    "print(result)"
   ]
  },
  {
   "cell_type": "code",
   "execution_count": null,
   "metadata": {
    "ExecuteTime": {
     "end_time": "2018-03-26T14:41:12.122343Z",
     "start_time": "2018-03-26T14:41:12.118961Z"
    }
   },
   "outputs": [],
   "source": [
    "result.mean(), result.std(), result.var()"
   ]
  },
  {
   "cell_type": "code",
   "execution_count": null,
   "metadata": {
    "ExecuteTime": {
     "end_time": "2018-03-26T14:41:12.127505Z",
     "start_time": "2018-03-26T14:41:12.123871Z"
    }
   },
   "outputs": [],
   "source": [
    "N = 1000\n",
    "result = np.random.randint(2, size=N)\n",
    "print('Mean ', result.mean(), ', std ', result.std())"
   ]
  },
  {
   "cell_type": "code",
   "execution_count": null,
   "metadata": {
    "ExecuteTime": {
     "end_time": "2018-03-26T14:41:12.134893Z",
     "start_time": "2018-03-26T14:41:12.129014Z"
    }
   },
   "outputs": [],
   "source": [
    "N = 1000\n",
    "N_trials = 100\n",
    "result = np.random.randint(2, size=(N, N_trials))\n",
    "print('Mean ', result.mean(axis=0), ', std ', result.mean(axis=0).std())"
   ]
  },
  {
   "cell_type": "code",
   "execution_count": null,
   "metadata": {
    "ExecuteTime": {
     "end_time": "2018-03-26T14:41:12.139548Z",
     "start_time": "2018-03-26T14:41:12.136587Z"
    }
   },
   "outputs": [],
   "source": [
    "print('Grand average=', result.mean())"
   ]
  },
  {
   "cell_type": "code",
   "execution_count": null,
   "metadata": {
    "ExecuteTime": {
     "end_time": "2018-03-26T14:41:12.349433Z",
     "start_time": "2018-03-26T14:41:12.141290Z"
    },
    "outputExpanded": false
   },
   "outputs": [],
   "source": [
    "%matplotlib inline\n",
    "import matplotlib.pyplot as plt"
   ]
  },
  {
   "cell_type": "code",
   "execution_count": null,
   "metadata": {
    "ExecuteTime": {
     "end_time": "2018-03-26T14:41:12.709150Z",
     "start_time": "2018-03-26T14:41:12.351765Z"
    }
   },
   "outputs": [],
   "source": [
    "N = 1000\n",
    "N_trials = 100\n",
    "result = np.random.randint(2, size=(N, N_trials))\n",
    "print('Mean ', result.mean(axis=0), ', std ', result.mean(axis=0).std())\n",
    "fig, ax = plt.subplots(figsize=(13, 8))\n",
    "ax.hist(result.mean(axis=0), bins=np.linspace(0, 1, 100));"
   ]
  },
  {
   "cell_type": "code",
   "execution_count": null,
   "metadata": {
    "ExecuteTime": {
     "end_time": "2018-03-26T14:41:13.049379Z",
     "start_time": "2018-03-26T14:41:12.711543Z"
    }
   },
   "outputs": [],
   "source": [
    "N = 1000\n",
    "N_trials = 100\n",
    "result = np.random.randint(2, size=(N, N_trials))\n",
    "print('Mean ', result.mean(axis=0), ', std ', result.mean(axis=0).std())\n",
    "fig, ax = plt.subplots(figsize=(13, 8))\n",
    "ax.hist(result.mean(axis=0), bins=np.linspace(0, 1, 100));"
   ]
  },
  {
   "cell_type": "code",
   "execution_count": null,
   "metadata": {
    "ExecuteTime": {
     "end_time": "2018-03-26T14:41:13.407786Z",
     "start_time": "2018-03-26T14:41:13.051377Z"
    }
   },
   "outputs": [],
   "source": [
    "N = 10000\n",
    "N_trials = 100\n",
    "result = np.random.randint(2, size=(N, N_trials))\n",
    "print('Mean ', result.mean(axis=0), ', std ', result.mean(axis=0).std())\n",
    "fig, ax = plt.subplots(figsize=(13, 8))\n",
    "ax.hist(result.mean(axis=0), bins=np.linspace(0, 1, 100));"
   ]
  },
  {
   "cell_type": "code",
   "execution_count": null,
   "metadata": {
    "ExecuteTime": {
     "end_time": "2018-03-26T14:41:13.731160Z",
     "start_time": "2018-03-26T14:41:13.409816Z"
    }
   },
   "outputs": [],
   "source": [
    "N = 100\n",
    "N_trials = 100\n",
    "result = np.random.randint(2, size=(N, N_trials))\n",
    "print('Mean ', result.mean(axis=0), ', std ', result.mean(axis=0).std())\n",
    "fig, ax = plt.subplots(figsize=(13, 8))\n",
    "ax.hist(result.mean(axis=0), bins=np.linspace(0, 1, 100));"
   ]
  },
  {
   "cell_type": "markdown",
   "metadata": {
    "inputHidden": false,
    "outputHidden": false
   },
   "source": [
    "## normal variable"
   ]
  },
  {
   "cell_type": "code",
   "execution_count": null,
   "metadata": {
    "ExecuteTime": {
     "end_time": "2018-03-26T14:41:15.081552Z",
     "start_time": "2018-03-26T14:41:13.732754Z"
    }
   },
   "outputs": [],
   "source": [
    "N = 10000\n",
    "N_trials = 10000\n",
    "result = np.random.randint(2, size=(N, N_trials))\n",
    "print('Mean ', result.mean(axis=0), ', std ', result.mean(axis=0).std())\n",
    "fig, ax = plt.subplots(figsize=(13, 8))\n",
    "ax.hist(result.mean(axis=0), bins=np.linspace(0.48, .52, 100));"
   ]
  },
  {
   "cell_type": "markdown",
   "metadata": {},
   "source": [
    "Central limit theorem:\n",
    "\n",
    "Over multiple measurements, the average of an identical random variable converges to a normal law :\n",
    "$$\n",
    "p (x) = \\frac {1} { \\sqrt{ 2\\pi } \\sigma} \\cdot \\exp{(- \\frac {1} {2} \\cdot \\frac {(x - m)^2} {\\sigma^2} )}\n",
    "$$\n",
    "\n",
    "(moreover, we know from this theorem that the asymptotic mean is the mean or the rv and that the variance decreases inversely proportionally with the number of measurements)"
   ]
  },
  {
   "cell_type": "code",
   "execution_count": null,
   "metadata": {
    "ExecuteTime": {
     "end_time": "2018-03-26T14:41:15.662764Z",
     "start_time": "2018-03-26T14:41:15.083005Z"
    },
    "scrolled": false
   },
   "outputs": [],
   "source": [
    "mean  = result.mean(axis=0).mean()\n",
    "std  = result.mean(axis=0).std()\n",
    "bins = np.linspace(0.48, .52, 100)\n",
    "\n",
    "fig, ax = plt.subplots(figsize=(13, 8))\n",
    "ax.hist(result.mean(axis=0), bins=bins, density=True)\n",
    "ax.plot(bins, 1 / np.sqrt(2*np.pi) / std * np.exp(-.5*(bins-mean)**2/std**2), 'r', lw=2 );"
   ]
  },
  {
   "cell_type": "markdown",
   "metadata": {},
   "source": [
    "The central limit theorem works with all forms of random variables:"
   ]
  },
  {
   "cell_type": "code",
   "execution_count": null,
   "metadata": {
    "ExecuteTime": {
     "end_time": "2018-03-26T14:41:15.835528Z",
     "start_time": "2018-03-26T14:41:15.664391Z"
    }
   },
   "outputs": [],
   "source": [
    "N = 10000\n",
    "N_trials = 1000\n",
    "result = np.random.rand(N, N_trials)\n",
    "print(result)"
   ]
  },
  {
   "cell_type": "code",
   "execution_count": null,
   "metadata": {
    "ExecuteTime": {
     "end_time": "2018-03-26T14:41:16.159130Z",
     "start_time": "2018-03-26T14:41:15.837388Z"
    },
    "scrolled": false
   },
   "outputs": [],
   "source": [
    "mean  = result.mean(axis=0).mean()\n",
    "std  = result.mean(axis=0).std()\n",
    "bins = np.linspace(0.48, .52, 100)\n",
    "\n",
    "fig, ax = plt.subplots(figsize=(13, 8))\n",
    "ax.hist(result.mean(axis=0), bins=bins, density=True)\n",
    "ax.plot(bins, 1 / np.sqrt(2*np.pi) / std * np.exp(-.5*(bins-mean)**2/std**2), 'r', lw=2 );"
   ]
  },
  {
   "cell_type": "code",
   "execution_count": null,
   "metadata": {
    "ExecuteTime": {
     "end_time": "2018-03-26T14:41:16.732317Z",
     "start_time": "2018-03-26T14:41:16.161090Z"
    },
    "scrolled": false
   },
   "outputs": [],
   "source": [
    "N = 10000\n",
    "N_trials = 1000\n",
    "result = np.random.randn(N, N_trials) + .5\n",
    "\n",
    "mean  = result.mean(axis=0).mean()\n",
    "std  = result.mean(axis=0).std()\n",
    "bins = np.linspace(0.48, .52, 100)\n",
    "\n",
    "fig, ax = plt.subplots(figsize=(13, 8))\n",
    "ax.hist(result.mean(axis=0), bins=bins, density=True)\n",
    "ax.plot(bins, 1 / np.sqrt(2*np.pi) / std * np.exp(-.5*(bins-mean)**2/std**2), 'r', lw=2 );"
   ]
  }
 ],
 "metadata": {
  "kernel_info": {
   "name": "python3"
  },
  "kernelspec": {
   "display_name": "Python 3",
   "language": "python",
   "name": "python3"
  },
  "language_info": {
   "codemirror_mode": {
    "name": "ipython",
    "version": 3
   },
   "file_extension": ".py",
   "mimetype": "text/x-python",
   "name": "python",
   "nbconvert_exporter": "python",
   "pygments_lexer": "ipython3",
   "version": "3.6.4"
  },
  "nteract": {
   "version": "0.8.3"
  },
  "toc": {
   "nav_menu": {},
   "number_sections": true,
   "sideBar": true,
   "skip_h1_title": false,
   "title_cell": "Table of Contents",
   "title_sidebar": "Contents",
   "toc_cell": false,
   "toc_position": {},
   "toc_section_display": true,
   "toc_window_display": false
  }
 },
 "nbformat": 4,
 "nbformat_minor": 1
}
