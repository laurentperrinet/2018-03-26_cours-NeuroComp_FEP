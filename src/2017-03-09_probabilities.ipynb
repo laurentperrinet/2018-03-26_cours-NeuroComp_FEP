{
  "cells": [
    {
      "cell_type": "markdown",
      "source": [
        "# basics of probability theory\n",
        "\n",
        "In the context of a [course in Computational Neuroscience](https://invibe.net/LaurentPerrinet/Presentations/2018-03-26_cours-NeuroComp), I am teaching a basic introduction in [Probabilities, Bayes and the Free-energy principle](http://blog.invibe.net/files/2018-03-26_cours-NeuroComp_FEP.html).\n",
        "\n",
        "Let's learn to use probabilities in practice by generating some \"synthetic data\", that is by using the computer's number generator. \n",
        "\n\n",
        "<!-- TEASER_END -->\n",
        "\n\n\n",
        "Let's begin with a dice:\n",
        "\n\n## dice"
      ],
      "metadata": {
        "collapsed": false,
        "deletable": true,
        "editable": true,
        "inputHidden": false,
        "outputHidden": false
      }
    },
    {
      "cell_type": "code",
      "source": [
        "import numpy as np\n",
        "np"
      ],
      "outputs": [],
      "execution_count": null,
      "metadata": {
        "collapsed": false
      }
    },
    {
      "cell_type": "code",
      "source": [
        "np.random"
      ],
      "outputs": [],
      "execution_count": null,
      "metadata": {
        "collapsed": false
      }
    },
    {
      "cell_type": "code",
      "source": [
        "np.random.logistic"
      ],
      "outputs": [],
      "execution_count": null,
      "metadata": {
        "collapsed": false
      }
    },
    {
      "cell_type": "code",
      "source": [],
      "outputs": [],
      "execution_count": null,
      "metadata": {
        "collapsed": true
      }
    },
    {
      "cell_type": "code",
      "source": [
        "help(np.random.randint)"
      ],
      "outputs": [],
      "execution_count": null,
      "metadata": {
        "collapsed": false,
        "deletable": true,
        "editable": true
      }
    },
    {
      "cell_type": "code",
      "source": [
        "np.random.randint(6, size=10)"
      ],
      "outputs": [],
      "execution_count": null,
      "metadata": {
        "collapsed": false,
        "deletable": true,
        "editable": true
      }
    },
    {
      "cell_type": "markdown",
      "source": [
        "## a note on RNGs\n",
        "\n",
        "On a computer, randomness is (possibly) deterministic !\n"
      ],
      "metadata": {
        "collapsed": false,
        "deletable": true,
        "editable": true,
        "inputHidden": false,
        "outputHidden": false
      }
    },
    {
      "cell_type": "code",
      "source": [
        "np.random.randint(6, size=10)"
      ],
      "outputs": [],
      "execution_count": null,
      "metadata": {
        "collapsed": false,
        "deletable": true,
        "editable": true
      }
    },
    {
      "cell_type": "code",
      "source": [
        "np.random.seed(42)\n",
        "np.random.randint(6, size=10)"
      ],
      "outputs": [],
      "execution_count": null,
      "metadata": {
        "collapsed": false,
        "deletable": true,
        "editable": true
      }
    },
    {
      "cell_type": "code",
      "source": [
        "np.random.seed(43)\n",
        "np.random.randint(6, size=10)"
      ],
      "outputs": [],
      "execution_count": null,
      "metadata": {
        "collapsed": false,
        "deletable": true,
        "editable": true
      }
    },
    {
      "cell_type": "code",
      "source": [
        "np.random.seed(42)\n",
        "np.random.randint(6, size=10)"
      ],
      "outputs": [],
      "execution_count": null,
      "metadata": {
        "collapsed": false,
        "deletable": true,
        "editable": true
      }
    },
    {
      "cell_type": "code",
      "source": [
        "np.random.seed(None)\n",
        "np.random.randint(6, size=10)"
      ],
      "outputs": [],
      "execution_count": null,
      "metadata": {
        "collapsed": false,
        "deletable": true,
        "editable": true
      }
    },
    {
      "cell_type": "markdown",
      "source": [
        "## coin"
      ],
      "metadata": {
        "collapsed": false,
        "deletable": true,
        "editable": true,
        "inputHidden": false,
        "outputHidden": false
      }
    },
    {
      "cell_type": "code",
      "source": [
        "result = np.random.randint(2, size=10)\n",
        "print(result)"
      ],
      "outputs": [],
      "execution_count": null,
      "metadata": {
        "collapsed": false,
        "deletable": true,
        "editable": true
      }
    },
    {
      "cell_type": "code",
      "source": [
        "result.mean(), result.std(), result.var()"
      ],
      "outputs": [],
      "execution_count": null,
      "metadata": {
        "collapsed": false
      }
    },
    {
      "cell_type": "code",
      "source": [
        "N = 1000\n",
        "result = np.random.randint(2, size=N)\n",
        "print('Mean ', result.mean(), ', std ', result.std())"
      ],
      "outputs": [],
      "execution_count": null,
      "metadata": {
        "collapsed": false,
        "deletable": true,
        "editable": true
      }
    },
    {
      "cell_type": "code",
      "source": [
        "N = 1000\n",
        "N_trials = 100\n",
        "result = np.random.randint(2, size=(N, N_trials))\n",
        "print('Mean ', result.mean(axis=0), ', std ', result.mean(axis=0).std())"
      ],
      "outputs": [],
      "execution_count": null,
      "metadata": {
        "collapsed": false,
        "deletable": true,
        "editable": true
      }
    },
    {
      "cell_type": "code",
      "source": [
        "print('Grand average=', result.mean())"
      ],
      "outputs": [],
      "execution_count": null,
      "metadata": {
        "collapsed": false
      }
    },
    {
      "cell_type": "code",
      "source": [
        "%matplotlib inline\n",
        "import matplotlib.pyplot as plt"
      ],
      "outputs": [],
      "execution_count": null,
      "metadata": {
        "collapsed": true,
        "deletable": true,
        "editable": true,
        "outputExpanded": false
      }
    },
    {
      "cell_type": "code",
      "source": [
        "N = 1000\n",
        "N_trials = 100\n",
        "result = np.random.randint(2, size=(N, N_trials))\n",
        "print('Mean ', result.mean(axis=0), ', std ', result.mean(axis=0).std())\n",
        "fig, ax = plt.subplots(figsize=(13, 8))\n",
        "ax.hist(result.mean(axis=0), bins=np.linspace(0, 1, 100));"
      ],
      "outputs": [],
      "execution_count": null,
      "metadata": {
        "collapsed": false,
        "deletable": true,
        "editable": true
      }
    },
    {
      "cell_type": "code",
      "source": [
        "N = 1000\n",
        "N_trials = 100\n",
        "result = np.random.randint(2, size=(N, N_trials))\n",
        "print('Mean ', result.mean(axis=0), ', std ', result.mean(axis=0).std())\n",
        "fig, ax = plt.subplots(figsize=(13, 8))\n",
        "ax.hist(result.mean(axis=0), bins=np.linspace(0, 1, 100));"
      ],
      "outputs": [],
      "execution_count": null,
      "metadata": {
        "collapsed": false,
        "deletable": true,
        "editable": true
      }
    },
    {
      "cell_type": "code",
      "source": [
        "N = 10000\n",
        "N_trials = 100\n",
        "result = np.random.randint(2, size=(N, N_trials))\n",
        "print('Mean ', result.mean(axis=0), ', std ', result.mean(axis=0).std())\n",
        "fig, ax = plt.subplots(figsize=(13, 8))\n",
        "ax.hist(result.mean(axis=0), bins=np.linspace(0, 1, 100));"
      ],
      "outputs": [],
      "execution_count": null,
      "metadata": {
        "collapsed": false,
        "deletable": true,
        "editable": true
      }
    },
    {
      "cell_type": "code",
      "source": [
        "N = 100\n",
        "N_trials = 100\n",
        "result = np.random.randint(2, size=(N, N_trials))\n",
        "print('Mean ', result.mean(axis=0), ', std ', result.mean(axis=0).std())\n",
        "fig, ax = plt.subplots(figsize=(13, 8))\n",
        "ax.hist(result.mean(axis=0), bins=np.linspace(0, 1, 100));"
      ],
      "outputs": [],
      "execution_count": null,
      "metadata": {
        "collapsed": false,
        "deletable": true,
        "editable": true
      }
    },
    {
      "cell_type": "markdown",
      "source": [
        "## normal variable"
      ],
      "metadata": {
        "collapsed": false,
        "deletable": true,
        "editable": true,
        "inputHidden": false,
        "outputHidden": false
      }
    },
    {
      "cell_type": "code",
      "source": [
        "N = 100000\n",
        "N_trials = 10000\n",
        "result = np.random.randint(2, size=(N, N_trials))\n",
        "print('Mean ', result.mean(axis=0), ', std ', result.mean(axis=0).std())\n",
        "fig, ax = plt.subplots(figsize=(13, 8))\n",
        "ax.hist(result.mean(axis=0), bins=np.linspace(0.49, .51, 100));"
      ],
      "outputs": [],
      "execution_count": null,
      "metadata": {
        "collapsed": false,
        "deletable": true,
        "editable": true
      }
    },
    {
      "cell_type": "markdown",
      "source": [
        "Central limit theorem:\n",
        "\n",
        "Over multiple measurements, the average of an identical random variable converges to a normal law :\n",
        "$$\n",
        "p (x) = \\frac {1} { \\sqrt{ 2\\pi } \\sigma} \\cdot \\exp{(- \\frac {1} {2} \\cdot \\frac {(x - m)^2} {\\sigma^2} )}\n",
        "$$\n",
        "\n(moreover, we know from this theorem that the asymptotic mean is the mean or the rv and that the variance decreases inversely proportionally with the number of measurements)"
      ],
      "metadata": {
        "deletable": true,
        "editable": true
      }
    },
    {
      "cell_type": "code",
      "source": [
        "mean  = result.mean(axis=0).mean()\n",
        "std  = result.mean(axis=0).std()\n",
        "bins = np.linspace(0.49, .51, 100)\n",
        "\n",
        "fig, ax = plt.subplots(figsize=(13, 8))\n",
        "ax.hist(result.mean(axis=0), bins=bins, normed=True)\n",
        "ax.plot(bins, 1 / np.sqrt(2*np.pi) / std * np.exp(-.5*(bins-mean)**2/std**2), 'r', lw=2 );"
      ],
      "outputs": [],
      "execution_count": null,
      "metadata": {
        "collapsed": false,
        "deletable": true,
        "editable": true,
        "scrolled": false
      }
    },
    {
      "cell_type": "markdown",
      "source": [
        "The central limit theorem works with all forms of random variables:"
      ],
      "metadata": {
        "deletable": true,
        "editable": true
      }
    },
    {
      "cell_type": "code",
      "source": [
        "N = 100000\n",
        "N_trials = 1000\n",
        "result = np.random.rand(N, N_trials)\n",
        "print(result)"
      ],
      "outputs": [],
      "execution_count": null,
      "metadata": {
        "collapsed": false
      }
    },
    {
      "cell_type": "code",
      "source": [
        "mean  = result.mean(axis=0).mean()\n",
        "std  = result.mean(axis=0).std()\n",
        "bins = np.linspace(0.49, .51, 100)\n",
        "\n",
        "fig, ax = plt.subplots(figsize=(13, 8))\n",
        "ax.hist(result.mean(axis=0), bins=bins, normed=True)\n",
        "ax.plot(bins, 1 / np.sqrt(2*np.pi) / std * np.exp(-.5*(bins-mean)**2/std**2), 'r', lw=2 );"
      ],
      "outputs": [],
      "execution_count": null,
      "metadata": {
        "collapsed": false,
        "deletable": true,
        "editable": true,
        "scrolled": false
      }
    },
    {
      "cell_type": "code",
      "source": [
        "N = 100000\n",
        "N_trials = 1000\n",
        "result = np.random.randn(N, N_trials) + .5\n",
        "\n",
        "mean  = result.mean(axis=0).mean()\n",
        "std  = result.mean(axis=0).std()\n",
        "bins = np.linspace(0.49, .51, 100)\n",
        "\n",
        "fig, ax = plt.subplots(figsize=(13, 8))\n",
        "ax.hist(result.mean(axis=0), bins=bins, normed=True)\n",
        "ax.plot(bins, 1 / np.sqrt(2*np.pi) / std * np.exp(-.5*(bins-mean)**2/std**2), 'r', lw=2 );"
      ],
      "outputs": [],
      "execution_count": null,
      "metadata": {
        "collapsed": false,
        "deletable": true,
        "editable": true,
        "scrolled": false
      }
    }
  ],
  "metadata": {
    "kernel_info": {
      "name": "python3"
    },
    "kernelspec": {
      "name": "python3",
      "language": "python",
      "display_name": "Python 3"
    },
    "language_info": {
      "name": "python",
      "version": "3.6.4",
      "mimetype": "text/x-python",
      "codemirror_mode": {
        "name": "ipython",
        "version": 3
      },
      "pygments_lexer": "ipython3",
      "nbconvert_exporter": "python",
      "file_extension": ".py"
    },
    "nteract": {
      "version": "0.8.3"
    }
  },
  "nbformat": 4,
  "nbformat_minor": 1
}