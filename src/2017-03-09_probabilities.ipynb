{
 "cells": [
  {
   "cell_type": "markdown",
   "metadata": {
    "inputHidden": false,
    "outputHidden": false
   },
   "source": [
    "# basics of probability theory\n",
    "\n",
    "In the context of a [course in Computational Neuroscience](https://invibe.net/LaurentPerrinet/Presentations/2018-03-26_cours-NeuroComp), I am teaching a basic introduction in [Probabilities, Bayes and the Free-energy principle](http://blog.invibe.net/files/2018-03-26_cours-NeuroComp_FEP.html).\n",
    "\n",
    "Let's learn to use probabilities in practice by generating some \"synthetic data\", that is by using the computer's number generator. \n",
    "2018-03-26_cours-NeuroComp_FEP\n",
    "\n",
    "<!-- TEASER_END -->"
   ]
  },
  {
   "cell_type": "markdown",
   "metadata": {
    "inputHidden": false,
    "outputHidden": false
   },
   "source": [
    "Let's begin with a dice and the ``numpy.random`` library which provides with a wide range of function to handle random variables:\n",
    "\n",
    "\n",
    "## dice\n",
    "\n",
    "the ``numpy`` library is a module"
   ]
  },
  {
   "cell_type": "code",
   "execution_count": null,
   "metadata": {
    "ExecuteTime": {
     "end_time": "2018-03-27T07:50:19.898922Z",
     "start_time": "2018-03-27T07:50:19.798330Z"
    }
   },
   "outputs": [],
   "source": [
    "import numpy as np\n",
    "np"
   ]
  },
  {
   "cell_type": "markdown",
   "metadata": {},
   "source": [
    "from which you can use ``numpy.random`` "
   ]
  },
  {
   "cell_type": "code",
   "execution_count": null,
   "metadata": {
    "ExecuteTime": {
     "end_time": "2018-03-27T07:50:19.904161Z",
     "start_time": "2018-03-27T07:50:19.900776Z"
    }
   },
   "outputs": [],
   "source": [
    "np.random"
   ]
  },
  {
   "cell_type": "raw",
   "metadata": {
    "ExecuteTime": {
     "end_time": "2018-03-27T07:50:19.908818Z",
     "start_time": "2018-03-27T07:50:19.905645Z"
    }
   },
   "source": [
    "help(np.random.logistic)"
   ]
  },
  {
   "cell_type": "code",
   "execution_count": null,
   "metadata": {
    "ExecuteTime": {
     "end_time": "2018-03-27T07:50:19.913027Z",
     "start_time": "2018-03-27T07:50:19.910569Z"
    }
   },
   "outputs": [],
   "source": [
    "help(np.random.randint)"
   ]
  },
  {
   "cell_type": "markdown",
   "metadata": {},
   "source": [
    "Let's draw a cubic dice 10 times:"
   ]
  },
  {
   "cell_type": "code",
   "execution_count": null,
   "metadata": {
    "ExecuteTime": {
     "end_time": "2018-03-27T07:50:19.918199Z",
     "start_time": "2018-03-27T07:50:19.914872Z"
    }
   },
   "outputs": [],
   "source": [
    "np.random.randint(6, size=10)"
   ]
  },
  {
   "cell_type": "markdown",
   "metadata": {
    "inputHidden": false,
    "outputHidden": false
   },
   "source": [
    "## a note on RNGs\n",
    "\n",
    "On a computer, randomness is (possibly) deterministic !\n"
   ]
  },
  {
   "cell_type": "code",
   "execution_count": null,
   "metadata": {
    "ExecuteTime": {
     "end_time": "2018-03-27T07:50:19.923219Z",
     "start_time": "2018-03-27T07:50:19.919792Z"
    }
   },
   "outputs": [],
   "source": [
    "np.random.randint(6, size=10)"
   ]
  },
  {
   "cell_type": "code",
   "execution_count": null,
   "metadata": {
    "ExecuteTime": {
     "end_time": "2018-03-27T07:50:19.928616Z",
     "start_time": "2018-03-27T07:50:19.924972Z"
    }
   },
   "outputs": [],
   "source": [
    "np.random.seed(42)\n",
    "np.random.randint(6, size=10)"
   ]
  },
  {
   "cell_type": "code",
   "execution_count": null,
   "metadata": {
    "ExecuteTime": {
     "end_time": "2018-03-27T07:50:19.933984Z",
     "start_time": "2018-03-27T07:50:19.930328Z"
    }
   },
   "outputs": [],
   "source": [
    "np.random.seed(43)\n",
    "np.random.randint(6, size=10)"
   ]
  },
  {
   "cell_type": "code",
   "execution_count": null,
   "metadata": {
    "ExecuteTime": {
     "end_time": "2018-03-27T07:50:19.938900Z",
     "start_time": "2018-03-27T07:50:19.935480Z"
    }
   },
   "outputs": [],
   "source": [
    "np.random.seed(42)\n",
    "np.random.randint(6, size=10)"
   ]
  },
  {
   "cell_type": "code",
   "execution_count": null,
   "metadata": {
    "ExecuteTime": {
     "end_time": "2018-03-27T07:50:19.947722Z",
     "start_time": "2018-03-27T07:50:19.940241Z"
    }
   },
   "outputs": [],
   "source": [
    "np.random.seed(None)\n",
    "np.random.randint(6, size=10)"
   ]
  },
  {
   "cell_type": "markdown",
   "metadata": {
    "inputHidden": false,
    "outputHidden": false
   },
   "source": [
    "## coin"
   ]
  },
  {
   "cell_type": "code",
   "execution_count": null,
   "metadata": {
    "ExecuteTime": {
     "end_time": "2018-03-27T07:50:19.952373Z",
     "start_time": "2018-03-27T07:50:19.949363Z"
    }
   },
   "outputs": [],
   "source": [
    "result = np.random.randint(2, size=10)\n",
    "print(result)"
   ]
  },
  {
   "cell_type": "code",
   "execution_count": null,
   "metadata": {
    "ExecuteTime": {
     "end_time": "2018-03-27T07:50:19.957399Z",
     "start_time": "2018-03-27T07:50:19.953813Z"
    }
   },
   "outputs": [],
   "source": [
    "result.mean(), result.std(), result.var()"
   ]
  },
  {
   "cell_type": "code",
   "execution_count": null,
   "metadata": {
    "ExecuteTime": {
     "end_time": "2018-03-27T07:50:19.962294Z",
     "start_time": "2018-03-27T07:50:19.958932Z"
    }
   },
   "outputs": [],
   "source": [
    "N = 1000\n",
    "result = np.random.randint(2, size=N)\n",
    "print('Mean ', result.mean(), ', std ', result.std())"
   ]
  },
  {
   "cell_type": "code",
   "execution_count": null,
   "metadata": {
    "ExecuteTime": {
     "end_time": "2018-03-27T07:50:19.969400Z",
     "start_time": "2018-03-27T07:50:19.963747Z"
    }
   },
   "outputs": [],
   "source": [
    "N = 1000\n",
    "N_trials = 100\n",
    "result = np.random.randint(2, size=(N, N_trials))\n",
    "print('Mean ', result.mean(axis=0), ', std ', result.mean(axis=0).std())"
   ]
  },
  {
   "cell_type": "code",
   "execution_count": null,
   "metadata": {
    "ExecuteTime": {
     "end_time": "2018-03-27T07:50:19.973318Z",
     "start_time": "2018-03-27T07:50:19.970716Z"
    }
   },
   "outputs": [],
   "source": [
    "print('Grand average=', result.mean())"
   ]
  },
  {
   "cell_type": "code",
   "execution_count": null,
   "metadata": {
    "ExecuteTime": {
     "end_time": "2018-03-27T07:50:20.176121Z",
     "start_time": "2018-03-27T07:50:19.974742Z"
    },
    "outputExpanded": false
   },
   "outputs": [],
   "source": [
    "%matplotlib inline\n",
    "import matplotlib.pyplot as plt"
   ]
  },
  {
   "cell_type": "code",
   "execution_count": null,
   "metadata": {
    "ExecuteTime": {
     "end_time": "2018-03-27T07:50:20.461930Z",
     "start_time": "2018-03-27T07:50:20.177701Z"
    }
   },
   "outputs": [],
   "source": [
    "N = 1000\n",
    "N_trials = 100\n",
    "result = np.random.randint(2, size=(N, N_trials))\n",
    "print('Mean ', result.mean(axis=0), ', std ', result.mean(axis=0).std())\n",
    "fig, ax = plt.subplots(figsize=(13, 8))\n",
    "ax.hist(result.mean(axis=0), bins=np.linspace(0, 1, 100));"
   ]
  },
  {
   "cell_type": "code",
   "execution_count": null,
   "metadata": {
    "ExecuteTime": {
     "end_time": "2018-03-27T07:50:20.744928Z",
     "start_time": "2018-03-27T07:50:20.463514Z"
    }
   },
   "outputs": [],
   "source": [
    "N = 100\n",
    "N_trials = 1000\n",
    "result = np.random.randint(2, size=(N, N_trials))\n",
    "print('Mean ', result.mean(axis=0), ', std ', result.mean(axis=0).std())\n",
    "fig, ax = plt.subplots(figsize=(13, 8))\n",
    "ax.hist(result.mean(axis=0), bins=np.linspace(0, 1, 100));"
   ]
  },
  {
   "cell_type": "code",
   "execution_count": null,
   "metadata": {
    "ExecuteTime": {
     "end_time": "2018-03-27T07:50:21.014018Z",
     "start_time": "2018-03-27T07:50:20.746611Z"
    }
   },
   "outputs": [],
   "source": [
    "N = 10000\n",
    "N_trials = 10\n",
    "result = np.random.randint(2, size=(N, N_trials))\n",
    "print('Mean ', result.mean(axis=0), ', std ', result.mean(axis=0).std())\n",
    "fig, ax = plt.subplots(figsize=(13, 8))\n",
    "ax.hist(result.mean(axis=0), bins=np.linspace(0, 1, 100));"
   ]
  },
  {
   "cell_type": "code",
   "execution_count": null,
   "metadata": {
    "ExecuteTime": {
     "end_time": "2018-03-27T07:50:21.293712Z",
     "start_time": "2018-03-27T07:50:21.015665Z"
    }
   },
   "outputs": [],
   "source": [
    "N = 10\n",
    "N_trials = 10000\n",
    "result = np.random.randint(2, size=(N, N_trials))\n",
    "print('Mean ', result.mean(axis=0), ', std ', result.mean(axis=0).std())\n",
    "fig, ax = plt.subplots(figsize=(13, 8))\n",
    "ax.hist(result.mean(axis=0), bins=np.linspace(0, 1, 100));"
   ]
  },
  {
   "cell_type": "markdown",
   "metadata": {
    "inputHidden": false,
    "outputHidden": false
   },
   "source": [
    "## introducing the normal variable: the Gaussian distribution"
   ]
  },
  {
   "cell_type": "code",
   "execution_count": null,
   "metadata": {
    "ExecuteTime": {
     "end_time": "2018-03-27T07:50:22.651937Z",
     "start_time": "2018-03-27T07:50:21.295474Z"
    }
   },
   "outputs": [],
   "source": [
    "N = 10000\n",
    "N_trials = 10000\n",
    "result = np.random.randint(2, size=(N, N_trials))\n",
    "print('Mean ', result.mean(axis=0), ', std ', result.mean(axis=0).std())\n",
    "fig, ax = plt.subplots(figsize=(13, 8))\n",
    "ax.hist(result.mean(axis=0), bins=np.linspace(0.48, .52, 100));"
   ]
  },
  {
   "cell_type": "markdown",
   "metadata": {},
   "source": [
    "Central limit theorem:\n",
    "\n",
    "Over multiple measurements, the average of an identical random variable converges to a normal law :\n",
    "$$\n",
    "p (x) = \\frac {1} { \\sqrt{ 2\\pi } \\sigma} \\cdot \\exp{(- \\frac {1} {2} \\cdot \\frac {(x - m)^2} {\\sigma^2} )}\n",
    "$$\n",
    "\n",
    "(moreover, we know from this theorem that the asymptotic mean is the mean or the rv and that the variance decreases inversely proportionally with the number of measurements)"
   ]
  },
  {
   "cell_type": "code",
   "execution_count": null,
   "metadata": {
    "ExecuteTime": {
     "end_time": "2018-03-27T07:50:23.236140Z",
     "start_time": "2018-03-27T07:50:22.653544Z"
    }
   },
   "outputs": [],
   "source": [
    "mean  = result.mean(axis=0).mean()\n",
    "std  = result.mean(axis=0).std()\n",
    "bins = np.linspace(0.48, .52, 100)\n",
    "\n",
    "fig, ax = plt.subplots(figsize=(13, 8))\n",
    "ax.hist(result.mean(axis=0), bins=bins, density=True)\n",
    "ax.plot(bins, 1 / np.sqrt(2*np.pi) / std * np.exp(-.5*(bins-mean)**2/std**2), 'r', lw=2 );"
   ]
  },
  {
   "cell_type": "markdown",
   "metadata": {},
   "source": [
    "The central limit theorem works with all forms of random variables:"
   ]
  },
  {
   "cell_type": "code",
   "execution_count": null,
   "metadata": {
    "ExecuteTime": {
     "end_time": "2018-03-27T07:50:23.391782Z",
     "start_time": "2018-03-27T07:50:23.237823Z"
    }
   },
   "outputs": [],
   "source": [
    "N = 10000\n",
    "N_trials = 1000\n",
    "result = np.random.rand(N, N_trials)\n",
    "print(result)"
   ]
  },
  {
   "cell_type": "code",
   "execution_count": null,
   "metadata": {
    "ExecuteTime": {
     "end_time": "2018-03-27T07:50:23.717153Z",
     "start_time": "2018-03-27T07:50:23.393721Z"
    }
   },
   "outputs": [],
   "source": [
    "mean  = result.mean(axis=0).mean()\n",
    "std  = result.mean(axis=0).std()\n",
    "bins = np.linspace(0.48, .52, 100)\n",
    "\n",
    "fig, ax = plt.subplots(figsize=(13, 8))\n",
    "ax.hist(result.mean(axis=0), bins=bins, density=True)\n",
    "ax.plot(bins, 1 / np.sqrt(2*np.pi) / std * np.exp(-.5*(bins-mean)**2/std**2), 'r', lw=2 );"
   ]
  },
  {
   "cell_type": "code",
   "execution_count": null,
   "metadata": {
    "ExecuteTime": {
     "end_time": "2018-03-27T07:50:24.290913Z",
     "start_time": "2018-03-27T07:50:23.719013Z"
    }
   },
   "outputs": [],
   "source": [
    "N = 10000\n",
    "N_trials = 1000\n",
    "result = np.random.randn(N, N_trials) + .5\n",
    "\n",
    "mean  = result.mean(axis=0).mean()\n",
    "std  = result.mean(axis=0).std()\n",
    "bins = np.linspace(0.48, .52, 100)\n",
    "\n",
    "fig, ax = plt.subplots(figsize=(13, 8))\n",
    "ax.hist(result.mean(axis=0), bins=bins, density=True)\n",
    "ax.plot(bins, 1 / np.sqrt(2*np.pi) / std * np.exp(-.5*(bins-mean)**2/std**2), 'r', lw=2 );"
   ]
  }
 ],
 "metadata": {
  "kernel_info": {
   "name": "python3"
  },
  "kernelspec": {
   "display_name": "Python 3",
   "language": "python",
   "name": "python3"
  },
  "language_info": {
   "codemirror_mode": {
    "name": "ipython",
    "version": 3
   },
   "file_extension": ".py",
   "mimetype": "text/x-python",
   "name": "python",
   "nbconvert_exporter": "python",
   "pygments_lexer": "ipython3",
   "version": "3.6.4"
  },
  "nteract": {
   "version": "0.8.3"
  },
  "toc": {
   "nav_menu": {},
   "number_sections": true,
   "sideBar": true,
   "skip_h1_title": false,
   "title_cell": "Table of Contents",
   "title_sidebar": "Contents",
   "toc_cell": false,
   "toc_position": {},
   "toc_section_display": true,
   "toc_window_display": false
  }
 },
 "nbformat": 4,
 "nbformat_minor": 1
}
